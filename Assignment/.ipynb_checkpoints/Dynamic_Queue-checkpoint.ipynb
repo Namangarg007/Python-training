{
 "cells": [
  {
   "cell_type": "code",
   "execution_count": 1,
   "metadata": {},
   "outputs": [],
   "source": [
    "import numpy as np"
   ]
  },
  {
   "cell_type": "code",
   "execution_count": 2,
   "metadata": {},
   "outputs": [],
   "source": [
    "class Queue:\n",
    "    \n",
    "    def __init__(self):\n",
    "        \n",
    "        self.__back = -1\n",
    "        self._data = np.zeros((10,), dtype = int)\n",
    "        \n",
    "    def insert(self, value):\n",
    "        \n",
    "        if not self.isFull():\n",
    "            self.__back += 1\n",
    "            self._data[self.__back] = value\n",
    "        else:\n",
    "            \n",
    "            return \"Queue is full\"\n",
    "        \n",
    "    def delete(self):\n",
    "        if not self.isEmpty():\n",
    "            for i in range(self.__back):\n",
    "                self._data[i] = self._data[i + 1]\n",
    "            self.__back -=1\n",
    "        else: \n",
    "            return \"the Queue is empty\" \n",
    "    \n",
    "    def peek(self):\n",
    "       \n",
    "        if not self.isEmpty():\n",
    "            \n",
    "            temp = self._data[0]\n",
    "            return temp\n",
    "        return \"Queue is empty\"\n",
    "    \n",
    "    def __repr__(self):\n",
    "        \n",
    "        return \"[{}]\".format(\", \".join(map(str, self._data[:self.__back + 1] )))\n",
    "    \n",
    "    def isEmpty(self):\n",
    "        \n",
    "        return self.__back == -1\n",
    "    \n",
    "    def isFull(self):\n",
    "        \n",
    "        return self.__back == len(self._data) - 1"
   ]
  },
  {
   "cell_type": "code",
   "execution_count": 3,
   "metadata": {},
   "outputs": [],
   "source": [
    "class DynamicQueue(Queue):\n",
    "    \n",
    "    def insert(self, value):\n",
    "        \n",
    "        if self.isFull():\n",
    "            increase = np.zeros((2 * len(self._data),), dtype = int)\n",
    "            for i in range(len(self._data)):\n",
    "                increase[i] = self._data[i]\n",
    "                \n",
    "        super().insert(value)   "
   ]
  },
  {
   "cell_type": "code",
   "execution_count": 4,
   "metadata": {},
   "outputs": [],
   "source": [
    "a = DynamicQueue()"
   ]
  },
  {
   "cell_type": "code",
   "execution_count": 5,
   "metadata": {},
   "outputs": [],
   "source": [
    "a.insert(10)"
   ]
  },
  {
   "cell_type": "code",
   "execution_count": 6,
   "metadata": {},
   "outputs": [],
   "source": [
    "a.insert(20)"
   ]
  },
  {
   "cell_type": "code",
   "execution_count": 7,
   "metadata": {},
   "outputs": [],
   "source": [
    "a.insert(50)"
   ]
  },
  {
   "cell_type": "code",
   "execution_count": 8,
   "metadata": {},
   "outputs": [],
   "source": [
    "a.insert(60)"
   ]
  },
  {
   "cell_type": "code",
   "execution_count": 9,
   "metadata": {},
   "outputs": [],
   "source": [
    "a.insert(300)"
   ]
  },
  {
   "cell_type": "code",
   "execution_count": 10,
   "metadata": {},
   "outputs": [],
   "source": [
    "a.insert(100)"
   ]
  },
  {
   "cell_type": "code",
   "execution_count": 11,
   "metadata": {},
   "outputs": [
    {
     "data": {
      "text/plain": [
       "[10, 20, 50, 60, 300, 100]"
      ]
     },
     "execution_count": 11,
     "metadata": {},
     "output_type": "execute_result"
    }
   ],
   "source": [
    "a"
   ]
  },
  {
   "cell_type": "code",
   "execution_count": 12,
   "metadata": {},
   "outputs": [],
   "source": [
    "a.delete()"
   ]
  },
  {
   "cell_type": "code",
   "execution_count": 13,
   "metadata": {},
   "outputs": [
    {
     "data": {
      "text/plain": [
       "[20, 50, 60, 300, 100]"
      ]
     },
     "execution_count": 13,
     "metadata": {},
     "output_type": "execute_result"
    }
   ],
   "source": [
    "a"
   ]
  },
  {
   "cell_type": "code",
   "execution_count": 14,
   "metadata": {},
   "outputs": [
    {
     "data": {
      "text/plain": [
       "20"
      ]
     },
     "execution_count": 14,
     "metadata": {},
     "output_type": "execute_result"
    }
   ],
   "source": [
    "a.peek()"
   ]
  },
  {
   "cell_type": "code",
   "execution_count": null,
   "metadata": {},
   "outputs": [],
   "source": []
  }
 ],
 "metadata": {
  "kernelspec": {
   "display_name": "Python 3",
   "language": "python",
   "name": "python3"
  },
  "language_info": {
   "codemirror_mode": {
    "name": "ipython",
    "version": 3
   },
   "file_extension": ".py",
   "mimetype": "text/x-python",
   "name": "python",
   "nbconvert_exporter": "python",
   "pygments_lexer": "ipython3",
   "version": "3.7.4"
  }
 },
 "nbformat": 4,
 "nbformat_minor": 4
}
