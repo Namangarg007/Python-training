{
 "cells": [
  {
   "cell_type": "code",
   "execution_count": 1,
   "metadata": {},
   "outputs": [],
   "source": [
    "import matplotlib.pyplot as plt\n",
    "import numpy as np\n",
    "from sklearn.datasets import make_blobs\n",
    "from sklearn.model_selection import train_test_split\n",
    "from sklearn.neighbors import KNeighborsClassifier\n",
    "import pandas as pd"
   ]
  },
  {
   "cell_type": "code",
   "execution_count": 2,
   "metadata": {},
   "outputs": [],
   "source": [
    "data = np.load(\"./datasets/mnist_train_small.npy\")"
   ]
  },
  {
   "cell_type": "code",
   "execution_count": 3,
   "metadata": {},
   "outputs": [
    {
     "data": {
      "text/plain": [
       "(19999, 785)"
      ]
     },
     "execution_count": 3,
     "metadata": {},
     "output_type": "execute_result"
    }
   ],
   "source": [
    "data.shape"
   ]
  },
  {
   "cell_type": "code",
   "execution_count": 4,
   "metadata": {},
   "outputs": [],
   "source": [
    "X = data[:, 1:]\n",
    "y = data[:, 0]"
   ]
  },
  {
   "cell_type": "code",
   "execution_count": 7,
   "metadata": {},
   "outputs": [
    {
     "data": {
      "text/plain": [
       "((19999,), (19999, 784))"
      ]
     },
     "execution_count": 7,
     "metadata": {},
     "output_type": "execute_result"
    }
   ],
   "source": [
    "y.shape, X.shape"
   ]
  },
  {
   "cell_type": "code",
   "execution_count": 10,
   "metadata": {},
   "outputs": [
    {
     "data": {
      "text/plain": [
       "<matplotlib.image.AxesImage at 0x7f4ca0071650>"
      ]
     },
     "execution_count": 10,
     "metadata": {},
     "output_type": "execute_result"
    },
    {
     "data": {
      "image/png": "[encoded data removed]",
      "text/plain": [
       "<Figure size 432x288 with 1 Axes>"
      ]
     },
     "metadata": {
      "needs_background": "light"
     },
     "output_type": "display_data"
    }
   ],
   "source": [
    "plt.imshow(X[30].reshape(28, 28), cmap='gray')"
   ]
  },
  {
   "cell_type": "code",
   "execution_count": 12,
   "metadata": {},
   "outputs": [],
   "source": [
    "X_train, X_test, y_train, y_test = train_test_split(X, y, test_size=0.33, random_state=42)"
   ]
  },
  {
   "cell_type": "code",
   "execution_count": 47,
   "metadata": {},
   "outputs": [],
   "source": [
    "class customKNN:\n",
    "    \n",
    "    def __init__(self, n_neighbours=5):\n",
    "        \n",
    "        self.n_neighbours = n_neighbours\n",
    "        \n",
    "    def fit(self, X, y):\n",
    "        \n",
    "        self.X = (X - X.mean())/ X.std() #Normalisation of Data\n",
    "        self.y = y\n",
    "        \n",
    "    def predict_point(self, point):\n",
    "        \n",
    "        # take distance of this point from every point in training set (X) and compare with y\n",
    "        # distance store karo, also store cluster value\n",
    "        \n",
    "        distances = []\n",
    "        \n",
    "        for Xd, yd in zip(self.X, self.y):\n",
    "            \n",
    "            distance = np.sum((Xd - point)**2)\n",
    "            distances.append([distance, yd])\n",
    "            \n",
    "        top_k = sorted(distances)[:self.n_neighbours]\n",
    "        ans, count = np.unique(np.array(top_k)[:, 1], return_counts=True)\n",
    "        max_index = np.argmax(count)\n",
    "        \n",
    "        return ans[max_index]\n",
    "    \n",
    "    def predict(self, X):\n",
    "        \n",
    "        X = (X - X.mean()) / X.std()\n",
    "        result = []\n",
    "        \n",
    "        for point in X:\n",
    "            result.append(self.predict_point(point))\n",
    "            \n",
    "        return np.array(result)\n",
    "    \n",
    "    def score(self, X, y):\n",
    "        \n",
    "        return (self.predict(X) == y).mean()"
   ]
  },
  {
   "cell_type": "code",
   "execution_count": 65,
   "metadata": {},
   "outputs": [],
   "source": [
    "model = customKNN(n_neighbours=10)"
   ]
  },
  {
   "cell_type": "code",
   "execution_count": 66,
   "metadata": {},
   "outputs": [],
   "source": [
    "model.fit(X_train, y_train)"
   ]
  },
  {
   "cell_type": "code",
   "execution_count": 67,
   "metadata": {},
   "outputs": [
    {
     "data": {
      "text/plain": [
       "(13399, 784)"
      ]
     },
     "execution_count": 67,
     "metadata": {},
     "output_type": "execute_result"
    }
   ],
   "source": [
    "(model.X).shape"
   ]
  },
  {
   "cell_type": "code",
   "execution_count": 68,
   "metadata": {},
   "outputs": [
    {
     "data": {
      "text/plain": [
       "array([[-0.42412151, -0.42412151, -0.42412151, ..., -0.42412151,\n",
       "        -0.42412151, -0.42412151],\n",
       "       [-0.42412151, -0.42412151, -0.42412151, ..., -0.42412151,\n",
       "        -0.42412151, -0.42412151],\n",
       "       [-0.42412151, -0.42412151, -0.42412151, ..., -0.42412151,\n",
       "        -0.42412151, -0.42412151],\n",
       "       ...,\n",
       "       [-0.42412151, -0.42412151, -0.42412151, ..., -0.42412151,\n",
       "        -0.42412151, -0.42412151],\n",
       "       [-0.42412151, -0.42412151, -0.42412151, ..., -0.42412151,\n",
       "        -0.42412151, -0.42412151],\n",
       "       [-0.42412151, -0.42412151, -0.42412151, ..., -0.42412151,\n",
       "        -0.42412151, -0.42412151]])"
      ]
     },
     "execution_count": 68,
     "metadata": {},
     "output_type": "execute_result"
    }
   ],
   "source": [
    "model.X"
   ]
  },
  {
   "cell_type": "code",
   "execution_count": 69,
   "metadata": {},
   "outputs": [
    {
     "data": {
      "text/plain": [
       "(13399,)"
      ]
     },
     "execution_count": 69,
     "metadata": {},
     "output_type": "execute_result"
    }
   ],
   "source": [
    "(model.y).shape"
   ]
  },
  {
   "cell_type": "code",
   "execution_count": 70,
   "metadata": {},
   "outputs": [
    {
     "data": {
      "text/plain": [
       "array([4, 0, 4, ..., 9, 9, 7], dtype=uint8)"
      ]
     },
     "execution_count": 70,
     "metadata": {},
     "output_type": "execute_result"
    }
   ],
   "source": [
    "model.y"
   ]
  },
  {
   "cell_type": "code",
   "execution_count": 71,
   "metadata": {},
   "outputs": [
    {
     "data": {
      "text/plain": [
       "array([1., 7., 0., 9., 4., 5., 4., 6., 9., 2., 0., 6., 1., 9., 9., 4., 9.,\n",
       "       1., 6., 2., 7., 9., 9., 2., 4., 4., 5., 6., 0., 5., 9., 0., 8., 7.,\n",
       "       9., 0., 2., 3., 8., 8., 3., 7., 0., 9., 8., 2., 7., 3., 7., 9., 1.,\n",
       "       9., 0., 3., 9., 3., 2., 1., 0., 4., 5., 4., 9., 3., 6., 6., 0., 9.,\n",
       "       7., 0., 6., 0., 3., 2., 3., 4., 9., 5., 5., 4., 1., 6., 0., 2., 6.,\n",
       "       0., 5., 3., 3., 1., 8., 0., 6., 9., 5., 9., 2., 0., 3., 1., 6., 9.,\n",
       "       2., 5., 4., 6., 7., 4., 1., 4., 1., 2., 0., 5., 4., 7., 3., 7., 1.,\n",
       "       6., 1., 1., 6., 6., 8., 6., 7., 2., 6., 2., 4., 2., 6., 2., 8., 5.,\n",
       "       9., 1., 8., 7., 4., 4., 0., 6., 2., 7., 4., 4., 1., 9., 7., 9., 7.,\n",
       "       5., 7., 6., 7., 2., 1., 5., 2., 3., 2., 3., 1., 8., 9., 0., 4., 6.,\n",
       "       5., 8., 4., 5., 8., 9., 4., 9., 5., 7., 0., 0., 1., 3., 2., 1., 9.,\n",
       "       5., 1., 0., 1., 8., 1., 1., 2., 5., 0., 3., 0., 2., 1., 6., 0., 1.,\n",
       "       1., 6., 7., 5., 8., 9., 1., 9., 3., 6., 1., 0., 0., 1., 2., 2., 7.,\n",
       "       0., 3., 3., 3., 1., 6., 9., 5., 5., 6., 9., 7., 0., 7., 1., 5., 7.,\n",
       "       3., 2., 7., 6., 0., 5., 4., 4., 8., 8., 0., 7., 1., 9., 7., 9., 3.,\n",
       "       7., 9., 0., 2., 2., 6., 3., 1., 8., 6., 2., 9., 3., 8., 0., 7., 3.,\n",
       "       5., 7., 8., 5., 0., 1., 3., 9., 5., 0., 2., 7., 4., 8., 1., 8., 3.,\n",
       "       9., 3., 9., 1., 3., 7., 1., 4., 3., 6., 9., 2., 6., 2., 6., 3., 9.,\n",
       "       6., 3., 8., 7., 0., 9., 0., 0., 8., 3., 9., 4., 2., 9., 4., 8., 4.,\n",
       "       4., 9., 0., 7., 7., 7., 4., 5., 2., 3., 0., 2., 9., 9., 6., 3., 9.,\n",
       "       6., 3., 1., 9., 2., 2., 3., 9., 2., 6., 8., 5., 3., 6., 3., 9., 5.,\n",
       "       7., 5., 2., 9., 6., 2., 5., 7., 8., 3., 8., 3., 6., 4., 7., 8., 9.,\n",
       "       3., 3., 1., 0., 6., 6., 1., 3., 9., 6., 1., 4., 5., 1., 8., 7., 6.,\n",
       "       4., 4., 4., 4., 5., 7., 1., 3., 8., 4., 5., 4., 2., 2., 9., 8., 6.,\n",
       "       7., 7., 3., 1., 7., 6., 2., 3., 9., 4., 5., 8., 2., 7., 8., 6., 1.,\n",
       "       1., 3., 9., 4., 1., 2., 2., 7., 3., 0., 9., 6., 5., 2., 3., 9., 1.,\n",
       "       1., 7., 1., 3., 1., 0., 6., 6., 5., 8., 6., 7., 7., 1., 2., 1., 8.,\n",
       "       0., 7., 6., 7., 3., 1., 8., 6., 2., 1., 9., 9., 6., 5., 8., 4., 4.,\n",
       "       4., 4., 5., 2., 0., 5., 0., 2., 2., 0., 0., 7., 9., 5., 6., 4., 2.,\n",
       "       6., 1., 3., 4., 0., 0., 6., 1., 9., 4., 9., 2., 6., 1., 0., 3., 0.,\n",
       "       6., 8., 0., 6., 1., 3., 2., 7., 5., 5., 5., 6., 9., 1., 0., 8., 6.,\n",
       "       1., 3., 6., 8., 4., 6., 3., 0., 2., 5., 5., 6., 9., 6., 3., 7., 6.,\n",
       "       8., 6., 5., 8., 9., 6., 9., 3., 4., 5., 1., 9., 3., 9., 6., 7., 2.,\n",
       "       7., 3., 2., 0., 8., 7., 5., 1., 1., 7., 1., 6., 8., 5., 9., 9., 8.,\n",
       "       9., 0., 1., 2., 9., 9., 4., 1., 4., 1., 2., 9., 7., 1., 8., 0., 3.,\n",
       "       1., 4., 4., 4., 2., 3., 1., 2., 2., 5., 6., 2., 5., 0., 8., 3., 1.,\n",
       "       1., 2., 9., 4., 6., 0., 7., 7., 8., 0., 2., 8., 8., 1., 5., 4., 0.,\n",
       "       6., 9., 9., 0., 0., 0., 3., 4., 0., 8., 6., 2., 6., 0., 6., 4., 0.,\n",
       "       0., 1., 1., 7., 7., 0., 2., 7., 8., 2., 9., 2., 6., 0., 3., 5., 7.,\n",
       "       0., 3., 2., 9., 3., 3., 2., 8., 8., 5., 2., 9., 3., 1., 9., 6., 7.,\n",
       "       6., 5., 6., 1., 3., 9., 8., 4., 7., 6., 1., 6., 8., 9., 8., 2., 8.,\n",
       "       6., 0., 0., 4., 2., 4., 9., 5., 3., 9., 0., 2., 5., 5., 7., 5., 7.,\n",
       "       6., 4., 7., 5., 3., 4., 7., 1., 7., 2., 0., 3., 1., 2., 0., 1., 7.,\n",
       "       9., 4., 4., 2., 1., 0., 2., 8., 5., 9., 9., 0., 3., 0., 0., 4., 3.,\n",
       "       8., 0., 5., 7., 5., 9., 6., 7., 8., 4., 0., 0., 5., 5., 5., 1., 1.,\n",
       "       5., 3., 0., 7., 1., 7., 4., 3., 7., 7., 6., 8., 5., 5., 2., 6., 3.,\n",
       "       7., 4., 6., 5., 6., 6., 5., 8., 9., 5., 9., 4., 9., 4., 5., 4., 5.,\n",
       "       9., 1., 8., 0., 6., 9., 7., 1., 3., 1., 6., 8., 0., 4., 2., 4., 1.,\n",
       "       4., 9., 9., 4., 9., 4., 8., 2., 5., 7., 6., 6., 3., 9., 0., 7., 3.,\n",
       "       0., 7., 1., 4., 0., 1., 7., 3., 3., 7., 3., 2., 5., 4., 5., 7., 5.,\n",
       "       0., 9., 6., 4., 6., 6., 3., 8., 9., 6., 6., 2., 1., 2., 4., 4., 1.,\n",
       "       4., 7., 6., 8., 9., 3., 0., 8., 0., 7., 1., 5., 3., 2., 2., 1., 2.,\n",
       "       1., 8., 1., 2., 3., 9., 8., 5., 8., 4., 2., 4., 8., 2., 2., 5., 7.,\n",
       "       4., 6., 7., 7., 7., 0., 2., 6., 0., 0., 7., 2., 1., 7., 4., 3., 1.,\n",
       "       7., 6., 1., 3., 8., 3., 0., 3., 9., 0., 6., 9., 0., 4., 7., 4., 7.,\n",
       "       9., 1., 8., 2., 4., 1., 5., 4., 7., 8., 9., 6., 0., 0., 0., 3., 7.,\n",
       "       6., 8., 8., 9., 4., 1., 7., 6., 8., 9., 7., 1., 4., 1., 6., 5., 9.,\n",
       "       5., 2., 7., 5., 0., 7., 1., 8., 2., 1., 1., 4., 0., 6., 7., 9., 8.,\n",
       "       7., 1., 5., 1., 1., 2., 1., 1., 9., 2., 2., 1., 4., 1.])"
      ]
     },
     "execution_count": 71,
     "metadata": {},
     "output_type": "execute_result"
    }
   ],
   "source": [
    "model.predict(X_test[:1000])"
   ]
  },
  {
   "cell_type": "code",
   "execution_count": 72,
   "metadata": {},
   "outputs": [
    {
     "data": {
      "text/plain": [
       "array([7, 7, 0, 9, 4, 5, 4, 6, 9, 2, 0, 6, 1, 9, 9, 4, 9, 1, 6, 2, 7, 9,\n",
       "       4, 2, 4, 4, 5, 6, 0, 8, 9, 0, 8, 7, 9, 0, 2, 3, 8, 8, 3, 7, 0, 9,\n",
       "       8, 2, 7, 3, 7, 9, 1, 9, 8, 3, 9, 3, 2, 1, 0, 4, 5, 4, 9, 3, 6, 2,\n",
       "       0, 9, 7, 0, 6, 0, 3, 2, 3, 4, 9, 5, 5, 4, 1, 6, 0, 2, 6, 0, 5, 8,\n",
       "       3, 1, 8, 0, 6, 9, 5, 9, 2, 0, 3, 1, 6, 9, 2, 5, 4, 6, 7, 4, 1, 4,\n",
       "       1, 2, 0, 5, 4, 7, 3, 7, 3, 6, 1, 1, 6, 4, 8, 6, 7, 2, 6, 2, 4, 2,\n",
       "       6, 2, 8, 5, 9, 1, 8, 7, 4, 4, 0, 6, 2, 7, 4, 4, 1, 9, 7, 9, 7, 5,\n",
       "       7, 6, 8, 2, 7, 5, 2, 3, 2, 3, 1, 8, 9, 0, 4, 6, 5, 8, 4, 5, 8, 9,\n",
       "       4, 9, 5, 3, 0, 0, 1, 3, 2, 1, 9, 5, 1, 6, 1, 8, 1, 1, 2, 5, 2, 9,\n",
       "       0, 3, 1, 6, 0, 1, 1, 6, 7, 5, 8, 9, 1, 9, 3, 6, 4, 0, 0, 1, 2, 2,\n",
       "       7, 0, 3, 3, 3, 1, 6, 9, 5, 5, 6, 9, 7, 0, 7, 1, 5, 7, 3, 2, 2, 6,\n",
       "       0, 5, 4, 4, 8, 8, 0, 7, 1, 9, 7, 9, 3, 7, 9, 0, 2, 2, 6, 3, 1, 8,\n",
       "       6, 2, 9, 3, 8, 0, 7, 3, 5, 7, 8, 5, 0, 1, 3, 9, 5, 0, 2, 7, 4, 8,\n",
       "       1, 8, 3, 4, 3, 9, 1, 3, 7, 1, 4, 3, 6, 9, 2, 6, 2, 6, 3, 9, 6, 3,\n",
       "       8, 7, 0, 9, 0, 0, 8, 3, 9, 4, 2, 9, 4, 8, 4, 4, 9, 0, 7, 7, 7, 4,\n",
       "       5, 2, 3, 0, 2, 9, 9, 6, 3, 9, 6, 3, 1, 9, 2, 2, 3, 9, 2, 6, 8, 5,\n",
       "       3, 6, 3, 9, 5, 9, 5, 2, 9, 6, 2, 5, 7, 8, 3, 8, 3, 6, 4, 7, 8, 9,\n",
       "       3, 3, 1, 0, 6, 4, 4, 3, 9, 6, 1, 4, 5, 1, 8, 2, 6, 4, 4, 4, 4, 5,\n",
       "       7, 2, 3, 8, 4, 5, 4, 2, 2, 9, 8, 6, 7, 7, 3, 1, 7, 6, 2, 3, 9, 4,\n",
       "       5, 8, 2, 7, 8, 6, 1, 1, 3, 2, 4, 1, 2, 2, 7, 3, 0, 9, 6, 5, 2, 3,\n",
       "       9, 0, 1, 7, 1, 3, 9, 0, 6, 6, 5, 8, 6, 7, 7, 3, 2, 1, 8, 0, 7, 4,\n",
       "       7, 3, 1, 8, 6, 2, 1, 9, 9, 6, 3, 8, 4, 4, 4, 4, 5, 2, 0, 5, 0, 2,\n",
       "       2, 0, 0, 7, 7, 5, 6, 4, 2, 6, 1, 3, 4, 0, 0, 6, 1, 9, 4, 9, 2, 6,\n",
       "       1, 0, 3, 0, 6, 8, 8, 6, 1, 3, 2, 7, 5, 5, 5, 6, 9, 9, 0, 8, 6, 1,\n",
       "       3, 6, 8, 4, 6, 3, 0, 2, 5, 5, 6, 9, 6, 3, 7, 6, 8, 6, 5, 8, 4, 6,\n",
       "       9, 3, 4, 5, 1, 9, 3, 9, 6, 7, 2, 7, 3, 2, 0, 8, 7, 5, 1, 1, 7, 1,\n",
       "       6, 8, 5, 9, 9, 8, 9, 0, 1, 2, 7, 9, 4, 1, 4, 7, 2, 9, 7, 1, 8, 0,\n",
       "       3, 1, 4, 4, 4, 2, 3, 1, 2, 2, 5, 6, 2, 5, 0, 8, 3, 1, 1, 2, 9, 4,\n",
       "       6, 0, 7, 7, 8, 0, 2, 8, 8, 1, 5, 4, 0, 6, 9, 9, 0, 0, 0, 3, 4, 0,\n",
       "       8, 6, 2, 6, 0, 6, 4, 0, 0, 1, 1, 9, 7, 0, 2, 7, 8, 2, 9, 2, 6, 0,\n",
       "       3, 5, 7, 0, 3, 2, 9, 3, 3, 2, 8, 8, 5, 2, 9, 3, 1, 9, 6, 7, 6, 5,\n",
       "       6, 1, 3, 9, 8, 4, 7, 6, 1, 6, 8, 4, 8, 2, 8, 6, 0, 0, 4, 2, 4, 9,\n",
       "       5, 3, 9, 6, 2, 5, 5, 7, 5, 7, 6, 4, 7, 5, 3, 4, 7, 1, 7, 2, 0, 3,\n",
       "       1, 2, 0, 1, 7, 9, 4, 4, 2, 1, 0, 2, 8, 5, 9, 9, 0, 3, 0, 0, 4, 3,\n",
       "       8, 0, 5, 7, 5, 9, 6, 7, 8, 9, 0, 0, 5, 5, 5, 1, 1, 5, 3, 0, 7, 1,\n",
       "       7, 4, 3, 7, 7, 6, 8, 5, 5, 2, 6, 3, 7, 4, 6, 5, 6, 6, 5, 8, 9, 5,\n",
       "       3, 4, 9, 4, 5, 4, 5, 9, 1, 8, 0, 6, 4, 7, 1, 3, 1, 6, 8, 0, 4, 2,\n",
       "       4, 1, 4, 9, 9, 4, 9, 4, 8, 2, 5, 7, 6, 6, 3, 9, 0, 7, 3, 0, 7, 6,\n",
       "       4, 0, 1, 7, 3, 3, 7, 3, 2, 5, 4, 8, 7, 5, 0, 9, 6, 4, 6, 6, 3, 5,\n",
       "       9, 6, 6, 2, 1, 2, 4, 4, 1, 4, 7, 6, 8, 8, 3, 0, 8, 0, 7, 1, 5, 3,\n",
       "       2, 2, 1, 2, 1, 8, 1, 2, 3, 9, 8, 8, 8, 4, 2, 4, 8, 2, 2, 5, 7, 4,\n",
       "       6, 7, 7, 7, 0, 2, 6, 0, 0, 2, 2, 7, 7, 4, 3, 1, 7, 6, 1, 3, 8, 3,\n",
       "       0, 3, 9, 0, 6, 9, 0, 4, 7, 4, 7, 9, 1, 8, 2, 4, 1, 5, 4, 7, 8, 5,\n",
       "       6, 0, 0, 0, 3, 7, 6, 8, 8, 9, 4, 1, 7, 6, 8, 9, 7, 1, 4, 1, 6, 5,\n",
       "       9, 5, 2, 7, 5, 0, 7, 1, 8, 2, 1, 1, 7, 0, 6, 7, 9, 8, 8, 1, 5, 7,\n",
       "       1, 2, 1, 1, 9, 2, 3, 1, 4, 2], dtype=uint8)"
      ]
     },
     "execution_count": 72,
     "metadata": {},
     "output_type": "execute_result"
    }
   ],
   "source": [
    "y_test[:1000]"
   ]
  },
  {
   "cell_type": "code",
   "execution_count": 73,
   "metadata": {},
   "outputs": [
    {
     "data": {
      "text/plain": [
       "0.946"
      ]
     },
     "execution_count": 73,
     "metadata": {},
     "output_type": "execute_result"
    }
   ],
   "source": [
    "model.score(X_test[:1000], y_test[:1000])"
   ]
  },
  {
   "cell_type": "code",
   "execution_count": 74,
   "metadata": {},
   "outputs": [
    {
     "data": {
      "text/plain": [
       "<matplotlib.image.AxesImage at 0x7f4c8ab23210>"
      ]
     },
     "execution_count": 74,
     "metadata": {},
     "output_type": "execute_result"
    },
    {
     "data": {
      "image/png": "[encoded data removed]",
      "text/plain": [
       "<Figure size 432x288 with 1 Axes>"
      ]
     },
     "metadata": {
      "needs_background": "light"
     },
     "output_type": "display_data"
    }
   ],
   "source": [
    "plt.imshow(X_test[1].reshape(28, 28), cmap='gray')"
   ]
  },
  {
   "cell_type": "code",
   "execution_count": 75,
   "metadata": {},
   "outputs": [
    {
     "name": "stdout",
     "output_type": "stream",
     "text": [
      "[0 1 2] [3 8 5]\n"
     ]
    },
    {
     "data": {
      "text/plain": [
       "1"
      ]
     },
     "execution_count": 75,
     "metadata": {},
     "output_type": "execute_result"
    }
   ],
   "source": [
    "a = np.array([0,1,1,1,1,1,1,1,1,0,0, 2,2, 2, 2, 2])\n",
    "ans, counts = np.unique(a, return_counts=True)\n",
    "print(ans, counts)\n",
    "np.argmax(counts)"
   ]
  },
  {
   "cell_type": "code",
   "execution_count": null,
   "metadata": {},
   "outputs": [],
   "source": []
  }
 ],
 "metadata": {
  "kernelspec": {
   "display_name": "Python 3",
   "language": "python",
   "name": "python3"
  },
  "language_info": {
   "codemirror_mode": {
    "name": "ipython",
    "version": 3
   },
   "file_extension": ".py",
   "mimetype": "text/x-python",
   "name": "python",
   "nbconvert_exporter": "python",
   "pygments_lexer": "ipython3",
   "version": "3.7.5"
  }
 },
 "nbformat": 4,
 "nbformat_minor": 2
}
