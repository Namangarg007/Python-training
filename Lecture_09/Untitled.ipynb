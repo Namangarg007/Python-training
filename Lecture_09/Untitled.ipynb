{
 "cells": [
  {
   "cell_type": "code",
   "execution_count": 13,
   "metadata": {},
   "outputs": [],
   "source": [
    "from bs4 import BeautifulSoup"
   ]
  },
  {
   "cell_type": "code",
   "execution_count": 14,
   "metadata": {},
   "outputs": [],
   "source": [
    "with open(\"Index.html\") as f:\n",
    "    \n",
    "    text = f.read()"
   ]
  },
  {
   "cell_type": "code",
   "execution_count": 15,
   "metadata": {},
   "outputs": [
    {
     "name": "stdout",
     "output_type": "stream",
     "text": [
      "<!DOCTYPE html>\n",
      "    <html>\n",
      "        <body>\n",
      "\n",
      "            <h2>Text Input</h2>\n",
      "\n",
      "            <form>\n",
      "                  First name:<br>\n",
      "                  <input type=\"text\" name=\"firstname\">\n",
      "                  <br>\n",
      "                  Last name:<br>\n",
      "                  <input type=\"text\" name=\"lastname\">\n",
      "            </form>\n",
      "\n",
      "            <p>Note that the form itself is not visible.</p>\n",
      "\n",
      "            <p>Also note that the default width of a text input field is 20 characters.</p>\n",
      "\n",
      "        </body>\n",
      "    </html>\n"
     ]
    }
   ],
   "source": [
    "print(text)"
   ]
  },
  {
   "cell_type": "code",
   "execution_count": 18,
   "metadata": {},
   "outputs": [],
   "source": [
    "soup = BeautifulSoup(text)"
   ]
  },
  {
   "cell_type": "code",
   "execution_count": 21,
   "metadata": {},
   "outputs": [
    {
     "data": {
      "text/plain": [
       "<p>Note that the form itself is not visible.</p>"
      ]
     },
     "execution_count": 21,
     "metadata": {},
     "output_type": "execute_result"
    }
   ],
   "source": [
    "soup.find(\"p\")"
   ]
  },
  {
   "cell_type": "code",
   "execution_count": 22,
   "metadata": {},
   "outputs": [],
   "source": [
    "import requests"
   ]
  },
  {
   "cell_type": "code",
   "execution_count": 23,
   "metadata": {},
   "outputs": [],
   "source": [
    "a = r\"https://www.google.com/\""
   ]
  },
  {
   "cell_type": "code",
   "execution_count": 24,
   "metadata": {},
   "outputs": [],
   "source": [
    "url = requests.get(a)"
   ]
  },
  {
   "cell_type": "code",
   "execution_count": 25,
   "metadata": {},
   "outputs": [],
   "source": [
    "b = url.text"
   ]
  },
  {
   "cell_type": "code",
   "execution_count": 26,
   "metadata": {},
   "outputs": [],
   "source": [
    "soup = BeautifulSoup(b)"
   ]
  },
  {
   "cell_type": "code",
   "execution_count": 36,
   "metadata": {},
   "outputs": [
    {
     "data": {
      "text/plain": [
       "[<p style=\"color:#767676;font-size:8pt\">© 2020 - <a href=\"/intl/en/policies/privacy/\">Privacy</a> - <a href=\"/intl/en/policies/terms/\">Terms</a></p>]"
      ]
     },
     "execution_count": 36,
     "metadata": {},
     "output_type": "execute_result"
    }
   ],
   "source": [
    "soup.find_all(\"p\")"
   ]
  },
  {
   "cell_type": "code",
   "execution_count": 28,
   "metadata": {},
   "outputs": [],
   "source": [
    "d = r\"https://www.goodreads.com/quotes\""
   ]
  },
  {
   "cell_type": "code",
   "execution_count": 29,
   "metadata": {},
   "outputs": [],
   "source": [
    "url = requests.get(d)"
   ]
  },
  {
   "cell_type": "code",
   "execution_count": 30,
   "metadata": {},
   "outputs": [],
   "source": [
    "x = url.text"
   ]
  },
  {
   "cell_type": "code",
   "execution_count": 31,
   "metadata": {},
   "outputs": [],
   "source": [
    "soup1 = BeautifulSoup(x)"
   ]
  },
  {
   "cell_type": "code",
   "execution_count": 59,
   "metadata": {},
   "outputs": [],
   "source": [
    "li = soup1.find_all(\"div\", attrs = {\"class\" : \"quoteText\"}) # attrs is defined as attributes"
   ]
  },
  {
   "cell_type": "code",
   "execution_count": 60,
   "metadata": {},
   "outputs": [],
   "source": [
    "item = li[0]"
   ]
  },
  {
   "cell_type": "code",
   "execution_count": 65,
   "metadata": {},
   "outputs": [
    {
     "data": {
      "text/plain": [
       "<div class=\"quoteText\">\n",
       "      “I'm selfish, impatient and a little insecure. I make mistakes, I am out of control and at times hard to handle. But if you can't handle me at my worst, then you sure as hell don't deserve me at my best.”\n",
       "  <br/>  ―\n",
       "  <span class=\"authorOrTitle\">\n",
       "    Marilyn Monroe\n",
       "  </span>\n",
       "</div>"
      ]
     },
     "execution_count": 65,
     "metadata": {},
     "output_type": "execute_result"
    }
   ],
   "source": [
    "item"
   ]
  },
  {
   "cell_type": "code",
   "execution_count": 61,
   "metadata": {},
   "outputs": [
    {
     "name": "stdout",
     "output_type": "stream",
     "text": [
      "\n",
      "      “I'm selfish, impatient and a little insecure. I make mistakes, I am out of control and at times hard to handle. But if you can't handle me at my worst, then you sure as hell don't deserve me at my best.”\n",
      "    ―\n",
      "  \n",
      "    Marilyn Monroe\n",
      "  \n",
      "\n"
     ]
    }
   ],
   "source": [
    "print(item.text)"
   ]
  },
  {
   "cell_type": "code",
   "execution_count": 62,
   "metadata": {},
   "outputs": [],
   "source": [
    "lines = item.text.strip().split(\"\\n\")"
   ]
  },
  {
   "cell_type": "code",
   "execution_count": 63,
   "metadata": {},
   "outputs": [],
   "source": [
    "quote, author = lines[0], lines[-1].strip()"
   ]
  },
  {
   "cell_type": "code",
   "execution_count": 64,
   "metadata": {},
   "outputs": [
    {
     "data": {
      "text/plain": [
       "(\"“I'm selfish, impatient and a little insecure. I make mistakes, I am out of control and at times hard to handle. But if you can't handle me at my worst, then you sure as hell don't deserve me at my best.”\",\n",
       " 'Marilyn Monroe')"
      ]
     },
     "execution_count": 64,
     "metadata": {},
     "output_type": "execute_result"
    }
   ],
   "source": [
    "quote, author"
   ]
  },
  {
   "cell_type": "code",
   "execution_count": 117,
   "metadata": {},
   "outputs": [],
   "source": [
    "import requests\n",
    "\n",
    "def process_link(url):\n",
    "    url = requests.get(d)\n",
    "    x = url.text\n",
    "    soup1 = BeautifulSoup(x)\n",
    "    quotes = soup1.find_all(\"div\", attrs = {\"class\" : \"quote\"})\n",
    "    f = quotes[0]\n",
    "    total = []\n",
    "    for f in quotes:\n",
    "\n",
    "        item = f.find_next(\"div\", attrs = {\"class\" : \"quoteText\"})\n",
    "        lines = item.text.strip().split(\"\\n\")\n",
    "        quote, author = lines[0], lines[-1].strip()\n",
    "        a = f.find_next(\"div\", attrs = {\"class\" : \"left\"})\n",
    "        li_tags_links = a.find_all(\"a\")\n",
    "        tags = [tag_link.text for tag_link in li_tags_links]\n",
    "        dict_quote = {\n",
    "            \"quotes\" : quote,\n",
    "            \"author\" : author,\n",
    "            \"tags\" : tags\n",
    "\n",
    "               }\n",
    "        total.append(dict_quote)\n",
    "\n",
    "    return total"
   ]
  },
  {
   "cell_type": "code",
   "execution_count": 118,
   "metadata": {},
   "outputs": [
    {
     "data": {
      "text/plain": [
       "[{'quotes': \"“I'm selfish, impatient and a little insecure. I make mistakes, I am out of control and at times hard to handle. But if you can't handle me at my worst, then you sure as hell don't deserve me at my best.”\",\n",
       "  'author': 'Marilyn Monroe',\n",
       "  'tags': ['attributed-no-source',\n",
       "   'best',\n",
       "   'life',\n",
       "   'love',\n",
       "   'mistakes',\n",
       "   'out-of-control',\n",
       "   'truth',\n",
       "   'worst']},\n",
       " {'quotes': '“Be yourself; everyone else is already taken.”',\n",
       "  'author': 'Oscar Wilde',\n",
       "  'tags': ['attributed-no-source',\n",
       "   'be-yourself',\n",
       "   'honesty',\n",
       "   'inspirational',\n",
       "   'misattributed-oscar-wilde']},\n",
       " {'quotes': \"“Two things are infinite: the universe and human stupidity; and I'm not sure about the universe.”\",\n",
       "  'author': 'Albert Einstein',\n",
       "  'tags': ['attributed-no-source',\n",
       "   'human-nature',\n",
       "   'humor',\n",
       "   'infinity',\n",
       "   'philosophy',\n",
       "   'science',\n",
       "   'stupidity',\n",
       "   'universe']},\n",
       " {'quotes': '“So many books, so little time.”',\n",
       "  'author': 'Frank Zappa',\n",
       "  'tags': ['books', 'humor']},\n",
       " {'quotes': \"“Be who you are and say what you feel, because those who mind don't matter, and those who matter don't mind.”\",\n",
       "  'author': 'Bernard M. Baruch',\n",
       "  'tags': ['ataraxy',\n",
       "   'be-yourself',\n",
       "   'confidence',\n",
       "   'fitting-in',\n",
       "   'individuality',\n",
       "   'misattributed-dr-seuss',\n",
       "   'those-who-matter']},\n",
       " {'quotes': '“A room without books is like a body without a soul.”',\n",
       "  'author': 'Marcus Tullius Cicero',\n",
       "  'tags': ['attributed-no-source', 'books', 'simile', 'soul']},\n",
       " {'quotes': \"“You've gotta dance like there's nobody watching,Love like you'll never be hurt,Sing like there's nobody listening,And live like it's heaven on earth.”\",\n",
       "  'author': 'William W. Purkey',\n",
       "  'tags': ['dance',\n",
       "   'heaven',\n",
       "   'hurt',\n",
       "   'inspirational',\n",
       "   'life',\n",
       "   'love',\n",
       "   'sing']},\n",
       " {'quotes': \"“You know you're in love when you can't fall asleep because reality is finally better than your dreams.”\",\n",
       "  'author': 'Dr. Seuss',\n",
       "  'tags': ['attributed-no-source', 'dreams', 'love', 'reality', 'sleep']},\n",
       " {'quotes': '“You only live once, but if you do it right, once is enough.”',\n",
       "  'author': 'Mae West',\n",
       "  'tags': ['humor', 'life']},\n",
       " {'quotes': '“Be the change that you wish to see in the world.”',\n",
       "  'author': 'Mahatma Gandhi',\n",
       "  'tags': ['action', 'change', 'inspirational', 'philosophy', 'wish']},\n",
       " {'quotes': \"“In three words I can sum up everything I've learned about life: it goes on.”\",\n",
       "  'author': 'Robert Frost',\n",
       "  'tags': ['life']},\n",
       " {'quotes': \"“If you want to know what a man's like, take a good look at how he treats his inferiors, not his equals.”\",\n",
       "  'author': '//]]>',\n",
       "  'tags': ['attributed-no-source',\n",
       "   'friends',\n",
       "   'friendship',\n",
       "   'misattributed-albert-camus']},\n",
       " {'quotes': '“Don’t walk in front of me… I may not followDon’t walk behind me… I may not leadWalk beside me… just be my friend”',\n",
       "  'author': 'Albert Camus',\n",
       "  'tags': ['attributed-no-source',\n",
       "   'friends',\n",
       "   'friendship',\n",
       "   'misattributed-albert-camus']},\n",
       " {'quotes': '“No one can make you feel inferior without your consent.”',\n",
       "  'author': '//]]>',\n",
       "  'tags': ['confidence', 'inspirational', 'wisdom']},\n",
       " {'quotes': '“Friendship ... is born at the moment when one man says to another \"What! You too? I thought that no one but myself . . .”',\n",
       "  'author': '//]]>',\n",
       "  'tags': ['friendship']},\n",
       " {'quotes': \"“If you tell the truth, you don't have to remember anything.”\",\n",
       "  'author': 'Mark Twain',\n",
       "  'tags': ['lies', 'lying', 'memory', 'truth']},\n",
       " {'quotes': \"“I've learned that people will forget what you said, people will forget what you did, but people will never forget how you made them feel.”\",\n",
       "  'author': 'Maya Angelou',\n",
       "  'tags': ['friend', 'friendship', 'knowledge', 'love']},\n",
       " {'quotes': '“A friend is someone who knows all about you and still loves you.”',\n",
       "  'author': 'Elbert Hubbard',\n",
       "  'tags': ['friend', 'friendship', 'knowledge', 'love']},\n",
       " {'quotes': '“Always forgive your enemies; nothing annoys them so much.”',\n",
       "  'author': 'Oscar Wilde',\n",
       "  'tags': ['attributed-no-source', 'enemies', 'forgiveness', 'strategy']},\n",
       " {'quotes': '“To live is the rarest thing in the world. Most people exist, that is all.”',\n",
       "  'author': 'Oscar Wilde',\n",
       "  'tags': ['life']},\n",
       " {'quotes': '“Live as if you were to die tomorrow. Learn as if you were to live forever.”',\n",
       "  'author': 'Mahatma Gandhi',\n",
       "  'tags': ['carpe-diem', 'education', 'inspirational', 'learning']},\n",
       " {'quotes': '“Darkness cannot drive out darkness: only light can do that. Hate cannot drive out hate: only love can do that.”',\n",
       "  'author': '//]]>',\n",
       "  'tags': ['darkness',\n",
       "   'drive-out',\n",
       "   'hate',\n",
       "   'inspirational',\n",
       "   'light',\n",
       "   'love',\n",
       "   'peace']},\n",
       " {'quotes': \"“I am so clever that sometimes I don't understand a single word of what I am saying.”\",\n",
       "  'author': '//]]>',\n",
       "  'tags': ['intelligence', 'self-deprecation']},\n",
       " {'quotes': '“Without music, life would be a mistake.”',\n",
       "  'author': '//]]>',\n",
       "  'tags': ['inspirational', 'music', 'philosophy']},\n",
       " {'quotes': '“We accept the love we think we deserve.”',\n",
       "  'author': '//]]>',\n",
       "  'tags': ['inspirational', 'love']},\n",
       " {'quotes': '“To be yourself in a world that is constantly trying to make you something else is the greatest accomplishment.”',\n",
       "  'author': 'Ralph Waldo Emerson',\n",
       "  'tags': ['accomplishment',\n",
       "   'attributed-no-source',\n",
       "   'be-yourself',\n",
       "   'conformity',\n",
       "   'individuality']},\n",
       " {'quotes': \"“Here's to the crazy ones. The misfits. The rebels. The troublemakers. The round pegs in the square holes. The ones who see things differently. They're not fond of rules. And they have no respect for the status quo. You can quote them, disagree with them, glorify or vilify them. About the only thing you can't do is ignore them. Because they change things. They push the human race forward. And while some may see them as the crazy ones, we see genius. Because the people who are crazy enough to think they can change the world, are the ones who do.”\",\n",
       "  'author': 'Rob Siltanen',\n",
       "  'tags': ['advertising',\n",
       "   'apple',\n",
       "   'change',\n",
       "   'commercial',\n",
       "   'computers',\n",
       "   'different',\n",
       "   'madness',\n",
       "   'misattributed-apple',\n",
       "   'misattributed-steve-jobs',\n",
       "   'misfits',\n",
       "   'nonconformity',\n",
       "   'progressive',\n",
       "   'rebels',\n",
       "   'status-quo',\n",
       "   'think-different',\n",
       "   'troublemakers']},\n",
       " {'quotes': '“Insanity is doing the same thing, over and over again, but expecting different results.”',\n",
       "  'author': 'Narcotics Anonymous',\n",
       "  'tags': ['humor',\n",
       "   'insanity',\n",
       "   'life',\n",
       "   'misattributed-ben-franklin',\n",
       "   'misattributed-mark-twain',\n",
       "   'misattributed-to-einstein']},\n",
       " {'quotes': \"“I believe that everything happens for a reason. People change so that you can learn to let go, things go wrong so that you appreciate them when they're right, you believe lies so you eventually learn to trust no one but yourself, and sometimes good things fall apart so better things can fall together.”\",\n",
       "  'author': 'Marilyn Monroe',\n",
       "  'tags': ['attributed-no-source', 'misattributed-marilyn-monroe']},\n",
       " {'quotes': \"“Twenty years from now you will be more disappointed by the things that you didn't do than by the ones you did do. So throw off the bowlines. Sail away from the safe harbor. Catch the trade winds in your sails. Explore. Dream. Discover.”\",\n",
       "  'author': '//]]>',\n",
       "  'tags': ['actions',\n",
       "   'disappointed',\n",
       "   'disappointment',\n",
       "   'dream',\n",
       "   'dreams',\n",
       "   'explore',\n",
       "   'misattributed-mark-twain',\n",
       "   'sail']}]"
      ]
     },
     "execution_count": 118,
     "metadata": {},
     "output_type": "execute_result"
    }
   ],
   "source": [
    "process_link(url)"
   ]
  },
  {
   "cell_type": "code",
   "execution_count": null,
   "metadata": {},
   "outputs": [],
   "source": []
  }
 ],
 "metadata": {
  "kernelspec": {
   "display_name": "Python 3",
   "language": "python",
   "name": "python3"
  },
  "language_info": {
   "codemirror_mode": {
    "name": "ipython",
    "version": 3
   },
   "file_extension": ".py",
   "mimetype": "text/x-python",
   "name": "python",
   "nbconvert_exporter": "python",
   "pygments_lexer": "ipython3",
   "version": "3.7.4"
  }
 },
 "nbformat": 4,
 "nbformat_minor": 4
}
