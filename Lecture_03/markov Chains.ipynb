{
 "cells": [
  {
   "cell_type": "markdown",
   "metadata": {},
   "source": [
    "# Markov Chains"
   ]
  },
  {
   "cell_type": "code",
   "execution_count": 1,
   "metadata": {},
   "outputs": [],
   "source": [
    "import requests\n",
    "import random"
   ]
  },
  {
   "cell_type": "code",
   "execution_count": 2,
   "metadata": {},
   "outputs": [],
   "source": [
    "url = r\"https://raw.githubusercontent.com/coding-blocks-archives/ML-Noida-2019-June-Two/master/datasets/speeches/speech.txt\""
   ]
  },
  {
   "cell_type": "code",
   "execution_count": 3,
   "metadata": {},
   "outputs": [],
   "source": [
    "response = requests.get(url)"
   ]
  },
  {
   "cell_type": "code",
   "execution_count": 2,
   "metadata": {},
   "outputs": [],
   "source": [
    "text = \"\"\"Bhoot!\n",
    "Aaja!\n",
    "Aaja bhoot!\n",
    "Hey aaja!\n",
    "Aaja aaja aaja…\n",
    "Arey bhoot raja..\n",
    "Aa bhatt.. Aa aa aalia bhatt, bhoot!\n",
    "Aaja… Aaja aaja aaja…\n",
    "Arey bhoot raja bahar aaja\n",
    "Aaja o aaja bahar aaja\n",
    "Arey bhoot raja bahar aaja\n",
    "Aaja o aaja bahar aaja\n",
    "\n",
    "Arey seedhi tarah se maan ja nahi to\n",
    "Main baja dunga tera band-baaja\n",
    "Bhoot raja…\n",
    "Aa.. Bhatt.. Aa aa aalia bhatt, bhoot!Bhoot…\n",
    "Ho zombie ki aankhon se main gotiyan khelun\n",
    "Arey vampiron ke sang main dandiya khelun\n",
    "O jispe chadha ho saaya, uska bana dun paya\n",
    "Jo bhoot pade bhaari uski nali nihari\n",
    "\n",
    "Dracula ka main peeta hoon main khoon taza\n",
    "Bhoot raja…\n",
    "Aa.. Bhatt.. Aa aa aalia bhatt, bhoot!\n",
    "\n",
    "Bhoot raja bahar aaja\n",
    "Come come o come come bahar aaja, bhoot!\n",
    "\n",
    "Ohm hrim klim…\n",
    "Khul ja sim sim\n",
    "Aye la la…\n",
    "\n",
    "Ho tera ek baar jo karaunga main mundan\n",
    "Tere andar ka ghost phatt se lega u turn\n",
    "Na na baalon pe na ja go for other option\n",
    "Phir se takla nahi karna hai mujhe roshan\n",
    "\n",
    "Arey bhooton ke black board ka duster hoon main\n",
    "Pichle janam ka character hoon main\n",
    "Duster hoon main ghost-buster hoon main\n",
    "Toh kya palang tod hotel ki chaddar hoon main\n",
    "\n",
    "Bhoot bhasm bhasm\n",
    "Conjuring’um bhasm bhasm\n",
    "Exorcism’um bhasm bhasm\n",
    "Sonu nigam bhasm bhasm\n",
    "Gaana khatam!\n",
    "\n",
    "Arey bhoot raja…\n",
    "\n",
    "Bhoot!\n",
    "Bhoot raja, bhoot bhoot raja\n",
    "Bhoot raja, bhoot bhoot raja\n",
    "\n",
    "Aaja aaja….\n",
    "Aah bhatt..mahesh bhatt\"\"\""
   ]
  },
  {
   "cell_type": "code",
   "execution_count": 3,
   "metadata": {},
   "outputs": [],
   "source": [
    "k = 5"
   ]
  },
  {
   "cell_type": "code",
   "execution_count": 4,
   "metadata": {},
   "outputs": [],
   "source": [
    "count = {}"
   ]
  },
  {
   "cell_type": "code",
   "execution_count": 5,
   "metadata": {},
   "outputs": [],
   "source": [
    "for i in range(k, len(text)):\n",
    "    cut = text [i-k: i]\n",
    "    nxt = text[i]\n",
    "    if cut not in count:\n",
    "        count[cut] = {}\n",
    "    if nxt not in count[cut]:\n",
    "        count[cut][nxt] = 0\n",
    "    \n",
    "    count[cut][nxt] += 1"
   ]
  },
  {
   "cell_type": "code",
   "execution_count": null,
   "metadata": {},
   "outputs": [],
   "source": []
  },
  {
   "cell_type": "code",
   "execution_count": 6,
   "metadata": {},
   "outputs": [],
   "source": [
    "f = text[:]"
   ]
  },
  {
   "cell_type": "code",
   "execution_count": 7,
   "metadata": {},
   "outputs": [],
   "source": [
    "for i in range(len(text)):\n",
    "    cut = f[-k:]\n",
    "    top5 = sorted(count[cut].items(), key=lambda item: item[1], reverse=True)[:5]\n",
    "    chosen = random.choice(top5)[0]\n",
    "    f = f + chosen"
   ]
  },
  {
   "cell_type": "code",
   "execution_count": 8,
   "metadata": {},
   "outputs": [
    {
     "name": "stdout",
     "output_type": "stream",
     "text": [
      "Bhoot!\n",
      "Aaja!\n",
      "Aaja bhoot!\n",
      "Hey aaja!\n",
      "Aaja aaja aaja…\n",
      "Arey bhoot raja..\n",
      "Aa bhatt.. Aa aa aalia bhatt, bhoot!\n",
      "Aaja… Aaja aaja aaja…\n",
      "Arey bhoot raja bahar aaja\n",
      "Aaja o aaja bahar aaja\n",
      "Arey bhoot raja bahar aaja\n",
      "Aaja o aaja bahar aaja\n",
      "\n",
      "Arey seedhi tarah se maan ja nahi to\n",
      "Main baja dunga tera band-baaja\n",
      "Bhoot raja…\n",
      "Aa.. Bhatt.. Aa aa aalia bhatt, bhoot!Bhoot…\n",
      "Ho zombie ki aankhon se main gotiyan khelun\n",
      "Arey vampiron ke sang main dandiya khelun\n",
      "O jispe chadha ho saaya, uska bana dun paya\n",
      "Jo bhoot pade bhaari uski nali nihari\n",
      "\n",
      "Dracula ka main peeta hoon main khoon taza\n",
      "Bhoot raja…\n",
      "Aa.. Bhatt.. Aa aa aalia bhatt, bhoot!\n",
      "\n",
      "Bhoot raja bahar aaja\n",
      "Come come o come come bahar aaja, bhoot!\n",
      "\n",
      "Ohm hrim klim…\n",
      "Khul ja sim sim\n",
      "Aye la la…\n",
      "\n",
      "Ho tera ek baar jo karaunga main mundan\n",
      "Tere andar ka ghost phatt se lega u turn\n",
      "Na na baalon pe na ja go for other option\n",
      "Phir se takla nahi karna hai mujhe roshan\n",
      "\n",
      "Arey bhooton ke black board ka duster hoon main\n",
      "Pichle janam ka character hoon main\n",
      "Duster hoon main ghost-buster hoon main\n",
      "Toh kya palang tod hotel ki chaddar hoon main\n",
      "\n",
      "Bhoot bhasm bhasm\n",
      "Conjuring’um bhasm bhasm\n",
      "Exorcism’um bhasm bhasm\n",
      "Sonu nigam bhasm bhasm\n",
      "Gaana khatam!\n",
      "\n",
      "Arey bhoot raja…\n",
      "\n",
      "Bhoot!\n",
      "Bhoot raja, bhoot bhoot raja\n",
      "Bhoot raja, bhoot bhoot raja\n",
      "\n",
      "Aaja aaja….\n",
      "Aah bhatt..mahesh bhatt, bhoot!Bhoot…\n",
      "Ho zombie ki aankhon se main\n",
      "Toh kya palang tod hotel ki chadha ho saaya, uska band-baaja\n",
      "\n",
      "Arey vampiron ke black board ka duster hoon taza\n",
      "Bhoot raja\n",
      "Bhoot raja bahar aaja….\n",
      "Aah bhatt..mahesh bhatt.. Aa aa aalia bhatt.. Aa aa aalia bhatt, bhooton ke black board ka duster hoon main khoon taza\n",
      "Bhoot…\n",
      "Ho zombie ki aankhon se maan ja nahi to\n",
      "Main baja dun paya\n",
      "Jo bhooton ke sang main gotiyan khelun\n",
      "O jispe chadha ho saaya, uska bana dun paya\n",
      "Jo bhooton ke black board ka duster hoon taza\n",
      "Bhoot…\n",
      "Ho zombie ki aankhon se main\n",
      "Toh kya palang tod hotel ki chadha ho saaya, uska band-baaja\n",
      "Come come o come come bahar aaja, bhoot!Bhoot…\n",
      "Ho zombie ki aankhon se maan ja nahi to\n",
      "Main baja dunga main\n",
      "Duster hoon taza\n",
      "Bhoot!\n",
      "\n",
      "Ohm hrim klim…\n",
      "Khul ja sim sim\n",
      "Aye la la…\n",
      "\n",
      "Ho tera ek baar jo karaunga main\n",
      "\n",
      "Bhoot!\n",
      "Bhoot!Bhoot pade bhaari uski nali nihari\n",
      "\n",
      "Dracula ka main\n",
      "Pichle janam ka character hoon main\n",
      "Duster hoon main\n",
      "Pichle janam ka character hoon taza\n",
      "Bhoot!\n",
      "Aaja o aaja\n",
      "Arey bhoot!Bhoot…\n",
      "Ho zombie ki aankhon se main\n",
      "Toh kya palang tod hotel ki chaddar hoon taza\n",
      "Bhoot raja…\n",
      "\n",
      "Bhoot raja…\n",
      "Arey vampiron ke sang main\n",
      "Pichle janam ka character hoon taza\n",
      "Bhoot pade bhaari uski nali nihari\n",
      "\n",
      "Dracula ka main\n",
      "\n",
      "Bhoot!\n",
      "Bhoot…\n",
      "Ho zombie ki aankhon se maan ja nahi karna hai mujhe ro\n"
     ]
    }
   ],
   "source": [
    "print(f)"
   ]
  },
  {
   "cell_type": "code",
   "execution_count": null,
   "metadata": {},
   "outputs": [],
   "source": []
  }
 ],
 "metadata": {
  "kernelspec": {
   "display_name": "Python 3",
   "language": "python",
   "name": "python3"
  },
  "language_info": {
   "codemirror_mode": {
    "name": "ipython",
    "version": 3
   },
   "file_extension": ".py",
   "mimetype": "text/x-python",
   "name": "python",
   "nbconvert_exporter": "python",
   "pygments_lexer": "ipython3",
   "version": "3.7.4"
  }
 },
 "nbformat": 4,
 "nbformat_minor": 4
}
