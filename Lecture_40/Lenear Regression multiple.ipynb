{
 "cells": [
  {
   "cell_type": "code",
   "execution_count": 1,
   "metadata": {},
   "outputs": [],
   "source": [
    "import tensorflow as tf\n",
    "import matplotlib.pyplot as plt\n",
    "import numpy as np\n",
    "from sklearn.datasets import make_regression\n",
    "import warnings\n",
    "warnings.filterwarnings('ignore')"
   ]
  },
  {
   "cell_type": "code",
   "execution_count": 2,
   "metadata": {},
   "outputs": [],
   "source": [
    "X, y = make_regression(n_samples=100, n_features=5, random_state=100, noise=5)\n",
    "X = tf.constant(X, dtype=np.float64)\n",
    "y = tf.constant(y, dtype=np.float64)"
   ]
  },
  {
   "cell_type": "code",
   "execution_count": 3,
   "metadata": {},
   "outputs": [
    {
     "data": {
      "text/plain": [
       "TensorShape([100, 5])"
      ]
     },
     "execution_count": 3,
     "metadata": {},
     "output_type": "execute_result"
    }
   ],
   "source": [
    "np.shape(X)"
   ]
  },
  {
   "cell_type": "code",
   "execution_count": 6,
   "metadata": {},
   "outputs": [],
   "source": [
    "ones = tf.ones((X.shape[0], 1), dtype=np.float64)\n",
    "\n",
    "X_mod = tf.concat([ones, X], axis=1)"
   ]
  },
  {
   "cell_type": "code",
   "execution_count": 7,
   "metadata": {},
   "outputs": [
    {
     "data": {
      "text/plain": [
       "TensorShape([100, 6])"
      ]
     },
     "execution_count": 7,
     "metadata": {},
     "output_type": "execute_result"
    }
   ],
   "source": [
    "X_mod.shape"
   ]
  },
  {
   "cell_type": "code",
   "execution_count": 25,
   "metadata": {},
   "outputs": [
    {
     "data": {
      "text/plain": [
       "TensorShape([100])"
      ]
     },
     "execution_count": 25,
     "metadata": {},
     "output_type": "execute_result"
    }
   ],
   "source": [
    "np.shape(y)"
   ]
  },
  {
   "cell_type": "code",
   "execution_count": 27,
   "metadata": {},
   "outputs": [],
   "source": [
    "#create model paramters with initial values \n",
    "theta = tf.Variable(0., dtype=np.float64)"
   ]
  },
  {
   "cell_type": "code",
   "execution_count": 40,
   "metadata": {},
   "outputs": [],
   "source": [
    "#training info\n",
    "train_steps = 500\n",
    "learning_rate = 0.01"
   ]
  },
  {
   "cell_type": "code",
   "execution_count": 41,
   "metadata": {},
   "outputs": [],
   "source": [
    "#watch the gradient flow\n",
    "@tf.function  # Make it fast.\n",
    "def train_on_batch(X, y):\n",
    "    with tf.GradientTape() as tape:\n",
    "        #forward pass \n",
    "        yhat = X * W + b\n",
    "\n",
    "        #calcuate the loss (difference squared error)\n",
    "        error = yhat - y\n",
    "        loss = tf.reduce_mean(error**2)\n",
    "\n",
    "    #evalute the gradient with the respect to the paramters\n",
    "    dW, db = tape.gradient(loss, [W, b])\n",
    "\n",
    "    #update the paramters using Gradient Descent  \n",
    "    W.assign_sub(dW * learning_rate)\n",
    "    b.assign_sub(db * learning_rate)\n",
    "\n",
    "    return(loss)"
   ]
  },
  {
   "cell_type": "code",
   "execution_count": 42,
   "metadata": {},
   "outputs": [
    {
     "name": "stdout",
     "output_type": "stream",
     "text": [
      "Loss at step 000: 30.513\n",
      "Loss at step 020: 30.513\n",
      "Loss at step 040: 30.513\n",
      "Loss at step 060: 30.513\n",
      "Loss at step 080: 30.513\n",
      "Loss at step 100: 30.513\n",
      "Loss at step 120: 30.513\n",
      "Loss at step 140: 30.513\n",
      "Loss at step 160: 30.513\n",
      "Loss at step 180: 30.513\n",
      "Loss at step 200: 30.513\n",
      "Loss at step 220: 30.513\n",
      "Loss at step 240: 30.513\n",
      "Loss at step 260: 30.513\n",
      "Loss at step 280: 30.513\n",
      "Loss at step 300: 30.513\n",
      "Loss at step 320: 30.513\n",
      "Loss at step 340: 30.513\n",
      "Loss at step 360: 30.513\n",
      "Loss at step 380: 30.513\n",
      "Loss at step 400: 30.513\n",
      "Loss at step 420: 30.513\n",
      "Loss at step 440: 30.513\n",
      "Loss at step 460: 30.513\n",
      "Loss at step 480: 30.513\n",
      "W : 40.46321292580528 , b  = -0.14493951189167564 \n"
     ]
    }
   ],
   "source": [
    "#print the loss every 20 iterations\n",
    "for i in range(train_steps):\n",
    "    loss = train_on_batch(X,y)\n",
    "    \n",
    "    if i % 20 == 0:\n",
    "        print(\"Loss at step {:03d}: {:.3f}\".format(i, loss))\n",
    "        \n",
    "print(f'W : {W.numpy()} , b  = {b.numpy()} ')"
   ]
  },
  {
   "cell_type": "code",
   "execution_count": 43,
   "metadata": {},
   "outputs": [],
   "source": [
    "loss = train_on_batch(X, y)"
   ]
  },
  {
   "cell_type": "code",
   "execution_count": 44,
   "metadata": {},
   "outputs": [
    {
     "data": {
      "text/plain": [
       "[<matplotlib.lines.Line2D at 0x7fd3a820da60>]"
      ]
     },
     "execution_count": 44,
     "metadata": {},
     "output_type": "execute_result"
    },
    {
     "data": {
      "image/png": "[encoded data removed]",
      "text/plain": [
       "<Figure size 432x288 with 1 Axes>"
      ]
     },
     "metadata": {
      "needs_background": "light"
     },
     "output_type": "display_data"
    }
   ],
   "source": [
    "plt.scatter(X, y , c=y)\n",
    "plt.plot(X, b+W*X, color='red')"
   ]
  },
  {
   "cell_type": "code",
   "execution_count": null,
   "metadata": {},
   "outputs": [],
   "source": []
  }
 ],
 "metadata": {
  "kernelspec": {
   "display_name": "Python 3",
   "language": "python",
   "name": "python3"
  },
  "language_info": {
   "codemirror_mode": {
    "name": "ipython",
    "version": 3
   },
   "file_extension": ".py",
   "mimetype": "text/x-python",
   "name": "python",
   "nbconvert_exporter": "python",
   "pygments_lexer": "ipython3",
   "version": "3.8.2"
  }
 },
 "nbformat": 4,
 "nbformat_minor": 4
}
