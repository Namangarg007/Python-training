{
 "cells": [
  {
   "cell_type": "code",
   "execution_count": 1,
   "metadata": {},
   "outputs": [
    {
     "name": "stderr",
     "output_type": "stream",
     "text": [
      "Using TensorFlow backend.\n"
     ]
    }
   ],
   "source": [
    "from keras.models import Model\n",
    "from keras.layers import Dense, Input\n",
    "import numpy as np\n",
    "\n",
    "import matplotlib.pyplot as plt\n",
    "from sklearn.preprocessing import OneHotEncoder\n",
    "from sklearn.model_selection import train_test_split"
   ]
  },
  {
   "cell_type": "code",
   "execution_count": 2,
   "metadata": {},
   "outputs": [],
   "source": [
    "data = np.load(\"../datasets/mnist/mnist_train_small.npy\")"
   ]
  },
  {
   "cell_type": "code",
   "execution_count": 3,
   "metadata": {},
   "outputs": [],
   "source": [
    "X, y = data[:, 1:], data[:, 0]"
   ]
  },
  {
   "cell_type": "code",
   "execution_count": 4,
   "metadata": {},
   "outputs": [],
   "source": [
    "y_hot = OneHotEncoder().fit_transform(y.reshape(-1, 1)).todense()"
   ]
  },
  {
   "cell_type": "code",
   "execution_count": 5,
   "metadata": {},
   "outputs": [],
   "source": [
    "X_train, X_test, y_train, y_test = train_test_split(\n",
    "...     X, y_hot, test_size=0.33, random_state=42)"
   ]
  },
  {
   "cell_type": "code",
   "execution_count": 6,
   "metadata": {},
   "outputs": [
    {
     "data": {
      "text/plain": [
       "(13399, 784)"
      ]
     },
     "execution_count": 6,
     "metadata": {},
     "output_type": "execute_result"
    }
   ],
   "source": [
    "X_train.shape"
   ]
  },
  {
   "cell_type": "code",
   "execution_count": 7,
   "metadata": {},
   "outputs": [
    {
     "data": {
      "text/plain": [
       "(13399, 10)"
      ]
     },
     "execution_count": 7,
     "metadata": {},
     "output_type": "execute_result"
    }
   ],
   "source": [
    "y_train.shape"
   ]
  },
  {
   "cell_type": "code",
   "execution_count": 19,
   "metadata": {},
   "outputs": [],
   "source": [
    "in_layer = Input(shape=(784,))\n",
    "d1 = Dense(800, activation=\"sigmoid\", name =\"l1\")(in_layer)\n",
    "d2 = Dense(400, activation=\"sigmoid\", name =\"l2\")(d1)\n",
    "d3 = Dense(200, activation=\"sigmoid\", name=\"l3\")(d2)\n",
    "d4 = Dense(100, activation=\"sigmoid\", name=\"l4\")(d3)\n",
    "out_layer = Dense(10, activation=\"softmax\", name=\"l5\")(d4)"
   ]
  },
  {
   "cell_type": "code",
   "execution_count": 20,
   "metadata": {},
   "outputs": [],
   "source": [
    "model = Model(inputs=in_layer, outputs = out_layer)"
   ]
  },
  {
   "cell_type": "code",
   "execution_count": 21,
   "metadata": {},
   "outputs": [
    {
     "name": "stdout",
     "output_type": "stream",
     "text": [
      "Model: \"model_3\"\n",
      "_________________________________________________________________\n",
      "Layer (type)                 Output Shape              Param #   \n",
      "=================================================================\n",
      "input_4 (InputLayer)         (None, 784)               0         \n",
      "_________________________________________________________________\n",
      "l1 (Dense)                   (None, 800)               628000    \n",
      "_________________________________________________________________\n",
      "l2 (Dense)                   (None, 400)               320400    \n",
      "_________________________________________________________________\n",
      "l3 (Dense)                   (None, 200)               80200     \n",
      "_________________________________________________________________\n",
      "l4 (Dense)                   (None, 100)               20100     \n",
      "_________________________________________________________________\n",
      "l5 (Dense)                   (None, 10)                1010      \n",
      "=================================================================\n",
      "Total params: 1,049,710\n",
      "Trainable params: 1,049,710\n",
      "Non-trainable params: 0\n",
      "_________________________________________________________________\n"
     ]
    }
   ],
   "source": [
    "model.summary()"
   ]
  },
  {
   "cell_type": "code",
   "execution_count": 22,
   "metadata": {},
   "outputs": [],
   "source": [
    "model.compile(optimizer='adam',\n",
    "     loss='categorical_crossentropy',\n",
    "    metrics=['accuracy'])"
   ]
  },
  {
   "cell_type": "code",
   "execution_count": 23,
   "metadata": {},
   "outputs": [
    {
     "name": "stdout",
     "output_type": "stream",
     "text": [
      "Epoch 1/10\n",
      "13399/13399 [==============================] - 5s 364us/step - loss: 0.8680 - accuracy: 0.7481\n",
      "Epoch 2/10\n",
      "13399/13399 [==============================] - 5s 379us/step - loss: 0.4149 - accuracy: 0.8763\n",
      "Epoch 3/10\n",
      "13399/13399 [==============================] - 5s 375us/step - loss: 0.3549 - accuracy: 0.8898\n",
      "Epoch 4/10\n",
      "13399/13399 [==============================] - 5s 365us/step - loss: 0.3310 - accuracy: 0.8975\n",
      "Epoch 5/10\n",
      "13399/13399 [==============================] - 5s 370us/step - loss: 0.3055 - accuracy: 0.9045\n",
      "Epoch 6/10\n",
      "13399/13399 [==============================] - 5s 394us/step - loss: 0.2835 - accuracy: 0.9113\n",
      "Epoch 7/10\n",
      "13399/13399 [==============================] - 4s 329us/step - loss: 0.2768 - accuracy: 0.9132\n",
      "Epoch 8/10\n",
      "13399/13399 [==============================] - 4s 294us/step - loss: 0.2660 - accuracy: 0.9165\n",
      "Epoch 9/10\n",
      "13399/13399 [==============================] - 5s 390us/step - loss: 0.2528 - accuracy: 0.9205\n",
      "Epoch 10/10\n",
      "13399/13399 [==============================] - 5s 339us/step - loss: 0.2432 - accuracy: 0.9256\n"
     ]
    }
   ],
   "source": [
    "output = model.fit(X_train, y_train, epochs=10)"
   ]
  },
  {
   "cell_type": "code",
   "execution_count": 24,
   "metadata": {},
   "outputs": [
    {
     "data": {
      "text/plain": [
       "[0.2717455343766646, 0.9160606265068054]"
      ]
     },
     "execution_count": 24,
     "metadata": {},
     "output_type": "execute_result"
    }
   ],
   "source": [
    "model.evaluate(X_test, y_test, verbose=0)"
   ]
  },
  {
   "cell_type": "code",
   "execution_count": 25,
   "metadata": {},
   "outputs": [
    {
     "data": {
      "text/plain": [
       "[<matplotlib.lines.Line2D at 0x7f46f877a550>]"
      ]
     },
     "execution_count": 25,
     "metadata": {},
     "output_type": "execute_result"
    },
    {
     "data": {
      "image/png": "[encoded data removed]",
      "text/plain": [
       "<Figure size 432x288 with 1 Axes>"
      ]
     },
     "metadata": {
      "needs_background": "light"
     },
     "output_type": "display_data"
    }
   ],
   "source": [
    "plt.plot(output.history[\"loss\"])"
   ]
  },
  {
   "cell_type": "code",
   "execution_count": 26,
   "metadata": {},
   "outputs": [
    {
     "data": {
      "image/png": "[encoded data removed]",
      "text/plain": [
       "<Figure size 432x288 with 1 Axes>"
      ]
     },
     "metadata": {
      "needs_background": "light"
     },
     "output_type": "display_data"
    }
   ],
   "source": [
    "plt.figure()\n",
    "plt.plot(output.history[\"accuracy\"])\n",
    "plt.ylim(0, 1.1)\n",
    "plt.show()"
   ]
  },
  {
   "cell_type": "code",
   "execution_count": 27,
   "metadata": {},
   "outputs": [
    {
     "data": {
      "text/plain": [
       "array([7, 7, 0, 9, 4, 5, 4, 6, 9, 2])"
      ]
     },
     "execution_count": 27,
     "metadata": {},
     "output_type": "execute_result"
    }
   ],
   "source": [
    "model.predict(X_test[:10]).argmax(axis=1)"
   ]
  },
  {
   "cell_type": "code",
   "execution_count": 28,
   "metadata": {},
   "outputs": [
    {
     "data": {
      "text/plain": [
       "matrix([[7],\n",
       "        [7],\n",
       "        [0],\n",
       "        [9],\n",
       "        [4],\n",
       "        [5],\n",
       "        [4],\n",
       "        [6],\n",
       "        [9],\n",
       "        [2]])"
      ]
     },
     "execution_count": 28,
     "metadata": {},
     "output_type": "execute_result"
    }
   ],
   "source": [
    "y_test[:10].argmax(axis=1)"
   ]
  },
  {
   "cell_type": "code",
   "execution_count": 29,
   "metadata": {},
   "outputs": [],
   "source": [
    "from PIL import Image"
   ]
  },
  {
   "cell_type": "code",
   "execution_count": 30,
   "metadata": {},
   "outputs": [
    {
     "data": {
      "text/plain": [
       "array([[4, 9, 6, 5, 1, 0, 7, 3, 8, 2]])"
      ]
     },
     "execution_count": 30,
     "metadata": {},
     "output_type": "execute_result"
    },
    {
     "data": {
      "image/png": "[encoded data removed]",
      "text/plain": [
       "<Figure size 432x288 with 1 Axes>"
      ]
     },
     "metadata": {
      "needs_background": "light"
     },
     "output_type": "display_data"
    }
   ],
   "source": [
    "one = Image.open(\"../datasets/nums/two.jpeg\")\n",
    "\n",
    "small = one.resize(size=(28, 28))\n",
    "\n",
    "img = 255 - np.array(small).mean(axis=2)\n",
    "\n",
    "plt.imshow(img, cmap=\"gray\")\n",
    "\n",
    "model.predict(np.array([img.flatten()])).argsort(axis=1)"
   ]
  },
  {
   "cell_type": "code",
   "execution_count": null,
   "metadata": {},
   "outputs": [],
   "source": []
  }
 ],
 "metadata": {
  "kernelspec": {
   "display_name": "Python 3",
   "language": "python",
   "name": "python3"
  },
  "language_info": {
   "codemirror_mode": {
    "name": "ipython",
    "version": 3
   },
   "file_extension": ".py",
   "mimetype": "text/x-python",
   "name": "python",
   "nbconvert_exporter": "python",
   "pygments_lexer": "ipython3",
   "version": "3.8.2"
  }
 },
 "nbformat": 4,
 "nbformat_minor": 4
}
