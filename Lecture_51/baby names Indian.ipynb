{
 "cells": [
  {
   "cell_type": "code",
   "execution_count": 1,
   "metadata": {},
   "outputs": [],
   "source": [
    "import numpy as np\n",
    "from tensorflow.keras.layers import Input, Dense, Embedding, SimpleRNN\n",
    "\n",
    "import matplotlib.pyplot as plt\n",
    "\n",
    "from tensorflow.keras.datasets import imdb\n",
    "\n",
    "from tensorflow.keras.utils import to_categorical\n",
    "from tensorflow.keras.models import Model\n",
    "from tensorflow.keras.preprocessing import sequence\n",
    "import pandas as pd\n",
    "\n",
    "from sklearn.preprocessing import LabelEncoder\n",
    "from sklearn.model_selection import train_test_split"
   ]
  },
  {
   "cell_type": "code",
   "execution_count": 2,
   "metadata": {},
   "outputs": [],
   "source": [
    "data = pd.read_csv('Indian Names.csv')"
   ]
  },
  {
   "cell_type": "code",
   "execution_count": 3,
   "metadata": {},
   "outputs": [
    {
     "data": {
      "text/html": [
       "<div>\n",
       "<style scoped>\n",
       "    .dataframe tbody tr th:only-of-type {\n",
       "        vertical-align: middle;\n",
       "    }\n",
       "\n",
       "    .dataframe tbody tr th {\n",
       "        vertical-align: top;\n",
       "    }\n",
       "\n",
       "    .dataframe thead th {\n",
       "        text-align: right;\n",
       "    }\n",
       "</style>\n",
       "<table border=\"1\" class=\"dataframe\">\n",
       "  <thead>\n",
       "    <tr style=\"text-align: right;\">\n",
       "      <th></th>\n",
       "      <th>name</th>\n",
       "      <th>gender</th>\n",
       "      <th>race</th>\n",
       "    </tr>\n",
       "  </thead>\n",
       "  <tbody>\n",
       "    <tr>\n",
       "      <th>0</th>\n",
       "      <td>barjraj</td>\n",
       "      <td>m</td>\n",
       "      <td>indian</td>\n",
       "    </tr>\n",
       "    <tr>\n",
       "      <th>1</th>\n",
       "      <td>ramdin verma</td>\n",
       "      <td>m</td>\n",
       "      <td>indian</td>\n",
       "    </tr>\n",
       "    <tr>\n",
       "      <th>2</th>\n",
       "      <td>sharat chandran</td>\n",
       "      <td>m</td>\n",
       "      <td>indian</td>\n",
       "    </tr>\n",
       "    <tr>\n",
       "      <th>3</th>\n",
       "      <td>birender mandal</td>\n",
       "      <td>m</td>\n",
       "      <td>indian</td>\n",
       "    </tr>\n",
       "    <tr>\n",
       "      <th>4</th>\n",
       "      <td>amit</td>\n",
       "      <td>m</td>\n",
       "      <td>indian</td>\n",
       "    </tr>\n",
       "  </tbody>\n",
       "</table>\n",
       "</div>"
      ],
      "text/plain": [
       "              name gender    race\n",
       "0          barjraj      m  indian\n",
       "1     ramdin verma      m  indian\n",
       "2  sharat chandran      m  indian\n",
       "3  birender mandal      m  indian\n",
       "4             amit      m  indian"
      ]
     },
     "execution_count": 3,
     "metadata": {},
     "output_type": "execute_result"
    }
   ],
   "source": [
    "data.head()"
   ]
  },
  {
   "cell_type": "code",
   "execution_count": 4,
   "metadata": {},
   "outputs": [],
   "source": [
    "X, y = data[\"name\"].values, data[\"gender\"].values"
   ]
  },
  {
   "cell_type": "code",
   "execution_count": 5,
   "metadata": {},
   "outputs": [],
   "source": [
    "y = LabelEncoder().fit_transform(y)"
   ]
  },
  {
   "cell_type": "code",
   "execution_count": 6,
   "metadata": {},
   "outputs": [
    {
     "data": {
      "text/plain": [
       "array([1, 1, 1, ..., 0, 0, 0])"
      ]
     },
     "execution_count": 6,
     "metadata": {},
     "output_type": "execute_result"
    }
   ],
   "source": [
    "y"
   ]
  },
  {
   "cell_type": "code",
   "execution_count": 7,
   "metadata": {},
   "outputs": [
    {
     "data": {
      "text/plain": [
       "{'a': 3,\n",
       " 'b': 4,\n",
       " 'c': 5,\n",
       " 'd': 6,\n",
       " 'e': 7,\n",
       " 'f': 8,\n",
       " 'g': 9,\n",
       " 'h': 10,\n",
       " 'i': 11,\n",
       " 'j': 12,\n",
       " 'k': 13,\n",
       " 'l': 14,\n",
       " 'm': 15,\n",
       " 'n': 16,\n",
       " 'o': 17,\n",
       " 'p': 18,\n",
       " 'q': 19,\n",
       " 'r': 20,\n",
       " 's': 21,\n",
       " 't': 22,\n",
       " 'u': 23,\n",
       " 'v': 24,\n",
       " 'w': 25,\n",
       " 'x': 26,\n",
       " 'y': 27,\n",
       " 'z': 28}"
      ]
     },
     "execution_count": 7,
     "metadata": {},
     "output_type": "execute_result"
    }
   ],
   "source": [
    "import string\n",
    "\n",
    "vocab = dict(zip(list(string.ascii_lowercase), range(3, 30)))\n",
    "\n",
    "vocab"
   ]
  },
  {
   "cell_type": "code",
   "execution_count": 8,
   "metadata": {},
   "outputs": [],
   "source": [
    "X_mod = []\n",
    "for name in X:\n",
    "    name = str(name)\n",
    "    gen = [vocab[ch] for ch in name.lower() if ch in vocab]\n",
    "    gen.insert(0, 1)\n",
    "    gen.append(2)\n",
    "    X_mod.append(gen)"
   ]
  },
  {
   "cell_type": "code",
   "execution_count": 9,
   "metadata": {},
   "outputs": [],
   "source": [
    "X_train, X_test, y_train, y_test = train_test_split(\n",
    "...     X_mod, y, test_size=0.33, random_state=42)"
   ]
  },
  {
   "cell_type": "code",
   "execution_count": 10,
   "metadata": {},
   "outputs": [],
   "source": [
    "X_train_padded = sequence.pad_sequences(X_train, maxlen=15)\n",
    "X_test_padded = sequence.pad_sequences(X_test, maxlen=15)"
   ]
  },
  {
   "cell_type": "code",
   "execution_count": 11,
   "metadata": {},
   "outputs": [
    {
     "data": {
      "text/plain": [
       "(9975, 15)"
      ]
     },
     "execution_count": 11,
     "metadata": {},
     "output_type": "execute_result"
    }
   ],
   "source": [
    "X_test_padded.shape"
   ]
  },
  {
   "cell_type": "code",
   "execution_count": 12,
   "metadata": {},
   "outputs": [],
   "source": [
    "in_layer = Input(shape=(15,))\n",
    "embedding = Embedding(input_dim=105, output_dim=3)(in_layer)\n",
    "rnn_layer = SimpleRNN(units=60)(embedding)\n",
    "output_layer = Dense(1, activation=\"sigmoid\")(rnn_layer)"
   ]
  },
  {
   "cell_type": "code",
   "execution_count": 13,
   "metadata": {},
   "outputs": [],
   "source": [
    "model = Model(inputs=in_layer, outputs=output_layer)"
   ]
  },
  {
   "cell_type": "code",
   "execution_count": 14,
   "metadata": {},
   "outputs": [
    {
     "name": "stdout",
     "output_type": "stream",
     "text": [
      "Model: \"model\"\n",
      "_________________________________________________________________\n",
      "Layer (type)                 Output Shape              Param #   \n",
      "=================================================================\n",
      "input_1 (InputLayer)         [(None, 15)]              0         \n",
      "_________________________________________________________________\n",
      "embedding (Embedding)        (None, 15, 3)             315       \n",
      "_________________________________________________________________\n",
      "simple_rnn (SimpleRNN)       (None, 60)                3840      \n",
      "_________________________________________________________________\n",
      "dense (Dense)                (None, 1)                 61        \n",
      "=================================================================\n",
      "Total params: 4,216\n",
      "Trainable params: 4,216\n",
      "Non-trainable params: 0\n",
      "_________________________________________________________________\n"
     ]
    }
   ],
   "source": [
    "model.summary()"
   ]
  },
  {
   "cell_type": "code",
   "execution_count": 15,
   "metadata": {},
   "outputs": [],
   "source": [
    "model.compile(optimizer=\"rmsprop\", loss=\"binary_crossentropy\", metrics=[\"accuracy\"])"
   ]
  },
  {
   "cell_type": "code",
   "execution_count": 16,
   "metadata": {},
   "outputs": [
    {
     "name": "stdout",
     "output_type": "stream",
     "text": [
      "Epoch 1/30\n",
      "633/633 [==============================] - 1s 2ms/step - loss: 0.4959 - accuracy: 0.7588\n",
      "Epoch 2/30\n",
      "633/633 [==============================] - 1s 2ms/step - loss: 0.4391 - accuracy: 0.7906\n",
      "Epoch 3/30\n",
      "633/633 [==============================] - 1s 2ms/step - loss: 0.4240 - accuracy: 0.8041\n",
      "Epoch 4/30\n",
      "633/633 [==============================] - 1s 2ms/step - loss: 0.4093 - accuracy: 0.8176\n",
      "Epoch 5/30\n",
      "633/633 [==============================] - 1s 2ms/step - loss: 0.3914 - accuracy: 0.8278\n",
      "Epoch 6/30\n",
      "633/633 [==============================] - 1s 2ms/step - loss: 0.3767 - accuracy: 0.8380\n",
      "Epoch 7/30\n",
      "633/633 [==============================] - 1s 2ms/step - loss: 0.3652 - accuracy: 0.8424\n",
      "Epoch 8/30\n",
      "633/633 [==============================] - 1s 2ms/step - loss: 0.3523 - accuracy: 0.8494\n",
      "Epoch 9/30\n",
      "633/633 [==============================] - 1s 2ms/step - loss: 0.3430 - accuracy: 0.8558\n",
      "Epoch 10/30\n",
      "633/633 [==============================] - 1s 2ms/step - loss: 0.3337 - accuracy: 0.8612\n",
      "Epoch 11/30\n",
      "633/633 [==============================] - 1s 2ms/step - loss: 0.3237 - accuracy: 0.8665\n",
      "Epoch 12/30\n",
      "633/633 [==============================] - 1s 2ms/step - loss: 0.3171 - accuracy: 0.8714\n",
      "Epoch 13/30\n",
      "633/633 [==============================] - 1s 2ms/step - loss: 0.3102 - accuracy: 0.8730\n",
      "Epoch 14/30\n",
      "633/633 [==============================] - 1s 2ms/step - loss: 0.3032 - accuracy: 0.8784\n",
      "Epoch 15/30\n",
      "633/633 [==============================] - 2s 3ms/step - loss: 0.2962 - accuracy: 0.8820\n",
      "Epoch 16/30\n",
      "633/633 [==============================] - 1s 2ms/step - loss: 0.2922 - accuracy: 0.8840\n",
      "Epoch 17/30\n",
      "633/633 [==============================] - 1s 2ms/step - loss: 0.2849 - accuracy: 0.8872\n",
      "Epoch 18/30\n",
      "633/633 [==============================] - 1s 2ms/step - loss: 0.2813 - accuracy: 0.8884\n",
      "Epoch 19/30\n",
      "633/633 [==============================] - 1s 2ms/step - loss: 0.2740 - accuracy: 0.8909\n",
      "Epoch 20/30\n",
      "633/633 [==============================] - 1s 2ms/step - loss: 0.2694 - accuracy: 0.8946\n",
      "Epoch 21/30\n",
      "633/633 [==============================] - 1s 2ms/step - loss: 0.2634 - accuracy: 0.8963\n",
      "Epoch 22/30\n",
      "633/633 [==============================] - 1s 2ms/step - loss: 0.2596 - accuracy: 0.8977\n",
      "Epoch 23/30\n",
      "633/633 [==============================] - 1s 2ms/step - loss: 0.2543 - accuracy: 0.9009\n",
      "Epoch 24/30\n",
      "633/633 [==============================] - 1s 2ms/step - loss: 0.2486 - accuracy: 0.9028\n",
      "Epoch 25/30\n",
      "633/633 [==============================] - 1s 2ms/step - loss: 0.2446 - accuracy: 0.9063\n",
      "Epoch 26/30\n",
      "633/633 [==============================] - 1s 2ms/step - loss: 0.2419 - accuracy: 0.9062\n",
      "Epoch 27/30\n",
      "633/633 [==============================] - 1s 2ms/step - loss: 0.2383 - accuracy: 0.9085\n",
      "Epoch 28/30\n",
      "633/633 [==============================] - 1s 2ms/step - loss: 0.2344 - accuracy: 0.9100\n",
      "Epoch 29/30\n",
      "633/633 [==============================] - 1s 2ms/step - loss: 0.2303 - accuracy: 0.9112\n",
      "Epoch 30/30\n",
      "633/633 [==============================] - 1s 2ms/step - loss: 0.2262 - accuracy: 0.9136\n"
     ]
    },
    {
     "data": {
      "text/plain": [
       "<tensorflow.python.keras.callbacks.History at 0x7f9c8868c130>"
      ]
     },
     "execution_count": 16,
     "metadata": {},
     "output_type": "execute_result"
    }
   ],
   "source": [
    "model.fit(X_train_padded, y_train, epochs=30)"
   ]
  },
  {
   "cell_type": "code",
   "execution_count": 17,
   "metadata": {},
   "outputs": [
    {
     "data": {
      "text/plain": [
       "[0.3005273938179016, 0.8885213136672974]"
      ]
     },
     "execution_count": 17,
     "metadata": {},
     "output_type": "execute_result"
    }
   ],
   "source": [
    "model.evaluate(X_test_padded, y_test, verbose=0)"
   ]
  },
  {
   "cell_type": "code",
   "execution_count": 22,
   "metadata": {},
   "outputs": [
    {
     "data": {
      "text/plain": [
       "array([[0.08112819]], dtype=float32)"
      ]
     },
     "execution_count": 22,
     "metadata": {},
     "output_type": "execute_result"
    }
   ],
   "source": [
    "name = 'muska'\n",
    "\n",
    "gen = [vocab[ch] for ch in name.lower()]\n",
    "gen.insert(0, 1)\n",
    "gen.append(2)\n",
    "\n",
    "data_padded = sequence.pad_sequences([gen], maxlen=15)\n",
    "\n",
    "data_padded\n",
    "\n",
    "model.predict(data_padded)"
   ]
  },
  {
   "cell_type": "code",
   "execution_count": null,
   "metadata": {},
   "outputs": [],
   "source": []
  }
 ],
 "metadata": {
  "kernelspec": {
   "display_name": "Python 3",
   "language": "python",
   "name": "python3"
  },
  "language_info": {
   "codemirror_mode": {
    "name": "ipython",
    "version": 3
   },
   "file_extension": ".py",
   "mimetype": "text/x-python",
   "name": "python",
   "nbconvert_exporter": "python",
   "pygments_lexer": "ipython3",
   "version": "3.8.2"
  }
 },
 "nbformat": 4,
 "nbformat_minor": 4
}
