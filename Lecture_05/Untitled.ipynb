{
 "cells": [
  {
   "cell_type": "code",
   "execution_count": 1,
   "metadata": {},
   "outputs": [],
   "source": [
    "class Human: # reinitiatin Human class\n",
    "    \n",
    "    population = 0 # static variable\n",
    "    \n",
    "    listing = []\n",
    "    \n",
    "    def __init__(self, name= \"baccha\", age= 0): # def stands for default, __init__ stands for initiate, self is a keyword and name, age are parameters\n",
    "        self.name = name\n",
    "        self.age = age\n",
    "        self.alive = True\n",
    "        \n",
    "        Human.population +=1\n",
    "        Human.listing.append(self)\n",
    "        \n",
    "    def die(self):\n",
    "            self.alive = False\n",
    "            Human.population -=1\n",
    "            \n",
    "    def eat(self):\n",
    "            print(self.name, \"is eating\")\n",
    "            \n",
    "\n",
    "    @classmethod\n",
    "    def genesis(cls):\n",
    "        cls.population = 0\n",
    "        for item in cls.listing:\n",
    "            item.alive = False"
   ]
  },
  {
   "cell_type": "code",
   "execution_count": 2,
   "metadata": {},
   "outputs": [],
   "source": [
    "class Hitman(Human):\n",
    "    \n",
    "    total_kills =0\n",
    "    \n",
    "    def __init__(self, name=\"hitter\", age = 0):\n",
    "        super().__init__(name, age) #calling __init__ of the parent class\n",
    "        self.kills = 0\n",
    "    \n",
    "    def shoot(self, person):\n",
    "        if not self.alive:\n",
    "            print(\"Hitman is already dead\")\n",
    "        elif self == person:\n",
    "            print(\"Suicide is a bad thing\")\n",
    "        elif not person.alive:\n",
    "            print(\"Target is already dead\")\n",
    "        else:\n",
    "            self.kills += 1\n",
    "        \n",
    "            Hitman.total_kills +=1\n",
    "            person.die()\n",
    "        \n",
    "        \n",
    "        "
   ]
  },
  {
   "cell_type": "code",
   "execution_count": 3,
   "metadata": {},
   "outputs": [],
   "source": [
    "james = Hitman(\"james\", 10)"
   ]
  },
  {
   "cell_type": "code",
   "execution_count": 4,
   "metadata": {},
   "outputs": [
    {
     "data": {
      "text/plain": [
       "1"
      ]
     },
     "execution_count": 4,
     "metadata": {},
     "output_type": "execute_result"
    }
   ],
   "source": [
    "Human.population"
   ]
  },
  {
   "cell_type": "code",
   "execution_count": 5,
   "metadata": {},
   "outputs": [
    {
     "data": {
      "text/plain": [
       "10"
      ]
     },
     "execution_count": 5,
     "metadata": {},
     "output_type": "execute_result"
    }
   ],
   "source": [
    "james.age"
   ]
  },
  {
   "cell_type": "code",
   "execution_count": 6,
   "metadata": {},
   "outputs": [],
   "source": [
    "james = Hitman(\"James\", 35)\n",
    "teza = Hitman(\"Teza\", 30)\n",
    "ravi = Human(\"Ravi\", 20)\n",
    "mohit = Human(\"Mohit\", 22)"
   ]
  },
  {
   "cell_type": "code",
   "execution_count": 7,
   "metadata": {},
   "outputs": [
    {
     "data": {
      "text/plain": [
       "0"
      ]
     },
     "execution_count": 7,
     "metadata": {},
     "output_type": "execute_result"
    }
   ],
   "source": [
    "Hitman.total_kills"
   ]
  },
  {
   "cell_type": "code",
   "execution_count": 8,
   "metadata": {},
   "outputs": [
    {
     "name": "stdout",
     "output_type": "stream",
     "text": [
      "James is eating\n"
     ]
    }
   ],
   "source": [
    "james.eat()"
   ]
  },
  {
   "cell_type": "code",
   "execution_count": 9,
   "metadata": {},
   "outputs": [],
   "source": [
    "james.shoot(ravi)"
   ]
  },
  {
   "cell_type": "code",
   "execution_count": 10,
   "metadata": {},
   "outputs": [
    {
     "name": "stdout",
     "output_type": "stream",
     "text": [
      "Suicide is a bad thing\n"
     ]
    }
   ],
   "source": [
    "james.shoot(james)"
   ]
  },
  {
   "cell_type": "code",
   "execution_count": 11,
   "metadata": {},
   "outputs": [
    {
     "name": "stdout",
     "output_type": "stream",
     "text": [
      "Target is already dead\n"
     ]
    }
   ],
   "source": [
    "james.shoot(ravi)"
   ]
  },
  {
   "cell_type": "code",
   "execution_count": null,
   "metadata": {},
   "outputs": [],
   "source": []
  }
 ],
 "metadata": {
  "kernelspec": {
   "display_name": "Python 3",
   "language": "python",
   "name": "python3"
  },
  "language_info": {
   "codemirror_mode": {
    "name": "ipython",
    "version": 3
   },
   "file_extension": ".py",
   "mimetype": "text/x-python",
   "name": "python",
   "nbconvert_exporter": "python",
   "pygments_lexer": "ipython3",
   "version": "3.7.4"
  }
 },
 "nbformat": 4,
 "nbformat_minor": 4
}
