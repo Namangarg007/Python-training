{
 "cells": [
  {
   "cell_type": "code",
   "execution_count": 1,
   "metadata": {},
   "outputs": [],
   "source": [
    "from flask import Flask, request, templating"
   ]
  },
  {
   "cell_type": "code",
   "execution_count": null,
   "metadata": {},
   "outputs": [
    {
     "name": "stdout",
     "output_type": "stream",
     "text": [
      " * Serving Flask app \"Object\" (lazy loading)\n",
      " * Environment: production\n",
      "   WARNING: This is a development server. Do not use it in a production deployment.\n",
      "   Use a production WSGI server instead.\n",
      " * Debug mode: off\n"
     ]
    },
    {
     "name": "stderr",
     "output_type": "stream",
     "text": [
      " * Running on http://127.0.0.1:5000/ (Press CTRL+C to quit)\n",
      "127.0.0.1 - - [06/Feb/2020 13:10:18] \"GET /form/ HTTP/1.1\" 200 -\n",
      "127.0.0.1 - - [06/Feb/2020 13:10:50] \"POST /submit HTTP/1.1\" 308 -\n",
      "127.0.0.1 - - [06/Feb/2020 13:10:50] \"POST /submit/ HTTP/1.1\" 200 -\n",
      "127.0.0.1 - - [06/Feb/2020 13:11:45] \"GET /form/ HTTP/1.1\" 200 -\n",
      "127.0.0.1 - - [06/Feb/2020 13:12:24] \"POST /submit HTTP/1.1\" 308 -\n",
      "127.0.0.1 - - [06/Feb/2020 13:12:24] \"POST /submit/ HTTP/1.1\" 200 -\n",
      "127.0.0.1 - - [06/Feb/2020 13:12:45] \"POST /submit HTTP/1.1\" 308 -\n",
      "127.0.0.1 - - [06/Feb/2020 13:12:46] \"POST /submit/ HTTP/1.1\" 200 -\n",
      "127.0.0.1 - - [06/Feb/2020 13:28:15] \"POST /submit/ HTTP/1.1\" 200 -\n",
      "127.0.0.1 - - [06/Feb/2020 13:28:19] \"POST /submit HTTP/1.1\" 308 -\n",
      "127.0.0.1 - - [06/Feb/2020 13:28:19] \"POST /submit/ HTTP/1.1\" 200 -\n"
     ]
    }
   ],
   "source": [
    "app = Flask(\"Object\")\n",
    "\n",
    "@app.route(\"/submit/\", methods=[\"get\", \"post\"])\n",
    "def submit():\n",
    "    fname = request.form.get(\"firstname\")\n",
    "    lname = request.form.get(\"lastname\")\n",
    "    \n",
    "    return \"My first name is {} and lastname is {}\".format(fname, lname)\n",
    "@app.route(\"/form/\")\n",
    "def form():\n",
    "    \n",
    "    return templating.render_template(\"second.template\")\n",
    "\n",
    "\n",
    "app.run()"
   ]
  },
  {
   "cell_type": "code",
   "execution_count": null,
   "metadata": {},
   "outputs": [],
   "source": []
  },
  {
   "cell_type": "code",
   "execution_count": null,
   "metadata": {},
   "outputs": [],
   "source": []
  }
 ],
 "metadata": {
  "kernelspec": {
   "display_name": "Python 3",
   "language": "python",
   "name": "python3"
  },
  "language_info": {
   "codemirror_mode": {
    "name": "ipython",
    "version": 3
   },
   "file_extension": ".py",
   "mimetype": "text/x-python",
   "name": "python",
   "nbconvert_exporter": "python",
   "pygments_lexer": "ipython3",
   "version": "3.7.4"
  }
 },
 "nbformat": 4,
 "nbformat_minor": 4
}
