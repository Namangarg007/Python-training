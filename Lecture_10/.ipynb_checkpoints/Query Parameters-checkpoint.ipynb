{
 "cells": [
  {
   "cell_type": "code",
   "execution_count": null,
   "metadata": {},
   "outputs": [],
   "source": [
    "from flask import Flask, request"
   ]
  },
  {
   "cell_type": "code",
   "execution_count": null,
   "metadata": {},
   "outputs": [],
   "source": [
    "#app = Flask(\"Object\")\n",
    "\n",
    "#@app.route(\"/\")\n",
    "#def something():\n",
    "    #return \"Yes it is Something\"\n",
    "\n",
    "#@app.route(\"/search/\")\n",
    "#def search():\n",
    "    #return \"Yes it is Searching for \" + request.args.get('q')\n",
    "\n",
    "\n",
    "#app.run()"
   ]
  },
  {
   "cell_type": "code",
   "execution_count": null,
   "metadata": {},
   "outputs": [],
   "source": [
    "d = { \"Naman\" : \"I am King\",\n",
    "      \"Shubham\" : \"I am Fucked Up\"}"
   ]
  },
  {
   "cell_type": "code",
   "execution_count": null,
   "metadata": {},
   "outputs": [],
   "source": [
    "app = Flask(\"Object\")\n",
    "\n",
    "@app.route(\"/\")\n",
    "def something():\n",
    "    return \"Yes it is Something\"\n",
    "\n",
    "@app.route(\"/search/\")\n",
    "def search():\n",
    "    name = request.args.get(\"name\")\n",
    "    return \"My name is {} and {}\".format(name,d[name])\n",
    "\n",
    "\n",
    "app.run()"
   ]
  },
  {
   "cell_type": "code",
   "execution_count": null,
   "metadata": {},
   "outputs": [],
   "source": []
  },
  {
   "cell_type": "code",
   "execution_count": null,
   "metadata": {},
   "outputs": [],
   "source": []
  }
 ],
 "metadata": {
  "kernelspec": {
   "display_name": "Python 3",
   "language": "python",
   "name": "python3"
  },
  "language_info": {
   "codemirror_mode": {
    "name": "ipython",
    "version": 3
   },
   "file_extension": ".py",
   "mimetype": "text/x-python",
   "name": "python",
   "nbconvert_exporter": "python",
   "pygments_lexer": "ipython3",
   "version": "3.7.4"
  }
 },
 "nbformat": 4,
 "nbformat_minor": 4
}
