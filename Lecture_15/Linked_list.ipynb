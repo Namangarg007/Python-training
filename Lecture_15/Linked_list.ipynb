{
 "cells": [
  {
   "cell_type": "markdown",
   "metadata": {},
   "source": [
    "# Link List"
   ]
  },
  {
   "cell_type": "code",
   "execution_count": 1,
   "metadata": {},
   "outputs": [],
   "source": [
    "class Node:\n",
    "    \n",
    "    def __init__(self, value, nxt=None):\n",
    "        \n",
    "        self.value = value\n",
    "        self.next = nxt\n",
    "        "
   ]
  },
  {
   "cell_type": "code",
   "execution_count": 2,
   "metadata": {},
   "outputs": [],
   "source": [
    "class LinkedList:\n",
    "    \n",
    "    def __init__(self):\n",
    "        \n",
    "        self.head = None\n",
    "        self.tail = None\n",
    "        self.size = 0\n",
    "        \n",
    "    def insertFirst(self, value):\n",
    "        \n",
    "        node = Node(value, self.head)\n",
    "        self.head = node\n",
    "        \n",
    "        if self.tail == None:\n",
    "            self.tail = self.head\n",
    "            \n",
    "        self.size += 1\n",
    "        \n",
    "    def insertLast(self, value):\n",
    "        if self.size == 0 :\n",
    "            self.insertFirst(value)\n",
    "            return\n",
    "        \n",
    "        node = Node(value)\n",
    "        self.tail.next = node\n",
    "        self.tail = node\n",
    "        \n",
    "        self.size += 1\n",
    "    \n",
    "    def deleteFirst(self):\n",
    "        \n",
    "        if self.head == None:\n",
    "            self.tail = None\n",
    "                \n",
    "        if self.size == 0:\n",
    "            print(\"The List s empty\")\n",
    "            return\n",
    "        \n",
    "        delete = self.head\n",
    "        self.head = delete.next\n",
    "        \n",
    "        self.size -= 1\n",
    "        \n",
    "        return delete.value\n",
    "    \n",
    "    def deleteLast(self):\n",
    "        \n",
    "        if self.size <= 1:\n",
    "            self.deleteFirst()\n",
    "            return\n",
    "        \n",
    "        second_last = self.head\n",
    "        \n",
    "        while second_last.next.next != None :\n",
    "            second_last = second_last.next\n",
    "            \n",
    "        delete = self.tail\n",
    "        self.tail = second_last\n",
    "        self.tail.next = None\n",
    "        \n",
    "        self.size -= 1\n",
    "        return delete.value\n",
    "    \n",
    "    def insert(self, index, value):\n",
    "        if index not in range(0,  self.size+1):\n",
    "            print(\"hey Have you gon Mad\")\n",
    "            return\n",
    "        \n",
    "        if index == 0:\n",
    "            self.insertFirst(value)\n",
    "            return\n",
    "        \n",
    "        if index == self.size:\n",
    "            self.insertLast(value)\n",
    "            return\n",
    "        prev = self.__seek(index - 1)\n",
    "        node = Node(value)\n",
    "        node.next = prev.next\n",
    "        prev.next = node\n",
    "        self.size += 1\n",
    "        \n",
    "    def  delete(self, index):\n",
    "        \n",
    "        if index not in range(0,  self.size+1):\n",
    "            print(\"hey Have you gon Mad\")\n",
    "            return\n",
    "        \n",
    "        if index == 0:\n",
    "            self.deleteFirst()\n",
    "            return\n",
    "        \n",
    "        if index == self.size:\n",
    "            self.deleteLast()\n",
    "            return\n",
    "        \n",
    "        delete = self.__seek(index)\n",
    "        prev = self.__seek(index - 1)\n",
    "        prev.next = delete.next\n",
    "        \n",
    "        print(delete.value)\n",
    "        \n",
    "        return\n",
    "    \n",
    "    def __seek(self, index):\n",
    "        node = self.head\n",
    "        for i in range(index-1):\n",
    "            node = node.next\n",
    "            \n",
    "        return node\n",
    "    \n",
    "    def __repr__(self):\n",
    "        \n",
    "        temp = self.head\n",
    "        ans = ''\n",
    "        while temp != None:\n",
    "            ans = ans + str(temp.value) + \"-->\"\n",
    "            temp = temp.next\n",
    "            \n",
    "        return ans"
   ]
  },
  {
   "cell_type": "code",
   "execution_count": 3,
   "metadata": {},
   "outputs": [],
   "source": [
    "ll = LinkedList()"
   ]
  },
  {
   "cell_type": "code",
   "execution_count": 5,
   "metadata": {},
   "outputs": [],
   "source": [
    "ll.insertFirst(\"Mohini\")\n",
    "ll.insertFirst(\"Kushag\")\n",
    "ll.insertFirst(\"Pinki\")"
   ]
  },
  {
   "cell_type": "code",
   "execution_count": null,
   "metadata": {},
   "outputs": [],
   "source": [
    "ll"
   ]
  },
  {
   "cell_type": "code",
   "execution_count": null,
   "metadata": {},
   "outputs": [],
   "source": [
    "ll.insertLast(\"Kartik\")"
   ]
  },
  {
   "cell_type": "code",
   "execution_count": null,
   "metadata": {},
   "outputs": [],
   "source": [
    "ll"
   ]
  },
  {
   "cell_type": "code",
   "execution_count": null,
   "metadata": {},
   "outputs": [],
   "source": [
    "ll.deleteFirst()"
   ]
  },
  {
   "cell_type": "code",
   "execution_count": null,
   "metadata": {},
   "outputs": [],
   "source": [
    "ll"
   ]
  },
  {
   "cell_type": "code",
   "execution_count": null,
   "metadata": {},
   "outputs": [],
   "source": [
    "ll.deleteLast()"
   ]
  },
  {
   "cell_type": "code",
   "execution_count": null,
   "metadata": {},
   "outputs": [],
   "source": [
    "ll"
   ]
  },
  {
   "cell_type": "code",
   "execution_count": 6,
   "metadata": {},
   "outputs": [],
   "source": [
    "ll.insert(3, \"Naman\")"
   ]
  },
  {
   "cell_type": "code",
   "execution_count": 6,
   "metadata": {},
   "outputs": [
    {
     "data": {
      "text/plain": [
       "Pinki-->Kushag-->Mohini-->Pinki-->Kushag-->Mohini-->"
      ]
     },
     "execution_count": 6,
     "metadata": {},
     "output_type": "execute_result"
    }
   ],
   "source": [
    "ll"
   ]
  },
  {
   "cell_type": "code",
   "execution_count": 8,
   "metadata": {},
   "outputs": [
    {
     "name": "stdout",
     "output_type": "stream",
     "text": [
      "Mohini\n"
     ]
    }
   ],
   "source": [
    "ll.delete(4)"
   ]
  },
  {
   "cell_type": "code",
   "execution_count": 9,
   "metadata": {},
   "outputs": [
    {
     "data": {
      "text/plain": [
       "Pinki-->Kushag-->Naman-->Pinki-->Kushag-->Mohini-->"
      ]
     },
     "execution_count": 9,
     "metadata": {},
     "output_type": "execute_result"
    }
   ],
   "source": [
    "ll"
   ]
  },
  {
   "cell_type": "code",
   "execution_count": null,
   "metadata": {},
   "outputs": [],
   "source": []
  }
 ],
 "metadata": {
  "kernelspec": {
   "display_name": "Python 3",
   "language": "python",
   "name": "python3"
  },
  "language_info": {
   "codemirror_mode": {
    "name": "ipython",
    "version": 3
   },
   "file_extension": ".py",
   "mimetype": "text/x-python",
   "name": "python",
   "nbconvert_exporter": "python",
   "pygments_lexer": "ipython3",
   "version": "3.7.5"
  }
 },
 "nbformat": 4,
 "nbformat_minor": 4
}
