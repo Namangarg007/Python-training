{
 "cells": [
  {
   "cell_type": "code",
   "execution_count": null,
   "metadata": {},
   "outputs": [],
   "source": [
    "from flask import Flask, request\n",
    "import random\n",
    "import requests"
   ]
  },
  {
   "cell_type": "code",
   "execution_count": null,
   "metadata": {},
   "outputs": [],
   "source": [
    "app = Flask(\"hello\")\n",
    "\n",
    "token = '1234567890'"
   ]
  },
  {
   "cell_type": "code",
   "execution_count": null,
   "metadata": {},
   "outputs": [],
   "source": [
    "def bot(recipient, text):\n",
    "    \n",
    "    url =r\"https://graph.facebook.com/v6.0/me/messages?access_token=EAAEFMTZBeWe4BAIZBCWp3FacwUE85cwekuXRxZAsRRQr5ZAScG63SjxqMjX5nZAxOfYielD2XAHoRPpqFXWAi3PvIybpUjx2jMIv6EBqFCn16K70JGVFj8EjhuIetCkToFuuXJUi6oW8hQ0ym8VgdbfA05Ipvv3VeuNMrfyfAhClWxpMXlFWd\" #facebook Send api with page token to send chat\n",
    "    \n",
    "    d1 = {\n",
    "        \"recipient\":{\n",
    "            \"id\" : recipient \n",
    "        }\n",
    "        \"message\" :{\n",
    "            \"text\" : \"Bot is Talking, Here is your Welcome Image\"\n",
    "        }\n",
    "    }\n",
    "    \n",
    "    d2 = {\n",
    "        \"recipient\":{\n",
    "            \"id\" : recipient \n",
    "        }\n",
    "        \"message\" :{\n",
    "            \"attachment\":{\n",
    "                \"type\":\"Image\",\n",
    "                \"payload\" :{\n",
    "                    \"url\" : \"\", \"is_reusable\" : True\n",
    "                }\n",
    "            }\n",
    "        }\n",
    "    }\n",
    "    \n",
    "    requests.post(url, json=d1)\n",
    "    requests.post(url, json=d2)\n",
    "    "
   ]
  },
  {
   "cell_type": "code",
   "execution_count": null,
   "metadata": {},
   "outputs": [],
   "source": [
    "@app.route(\"/check/\", methods=['get'])\n",
    "def hi():\n",
    "    return \"Working\"\n",
    "\n",
    "@app.route(\"/callback/\", methods=['GET'])\n",
    "def get_callback():\n",
    "    if token == request.args.get(\"hub.verify_token\"):\n",
    "        return request.args.get(\"hub.challenge\")\n",
    "    else:\n",
    "        return \"Not Working\"\n",
    "    \n",
    "@app.route(\"/callback/\", methods=['POST'])\n",
    "def post_callback():\n",
    "    output = request.get_json()\n",
    "    print(output)\n",
    "    for entry in output.get(\"entry\"):\n",
    "        if \"messaging\" in entry:\n",
    "            for messaging in entry.get(\"messaging\"):\n",
    "                sender = messaging.get(\"sender\").get(\"id\")\n",
    "                recipient = messaging.get(\"recipient\").get(\"id\")\n",
    "                if \"text\" in messaging.get(\"message\"):\n",
    "                    text = messaging.get(\"message\").get(\"text\")\n",
    "                    \n",
    "                print(sender, recipient, text)\n",
    "                bot(sender, text)\n",
    "    \n",
    "    return \"done\""
   ]
  },
  {
   "cell_type": "code",
   "execution_count": null,
   "metadata": {},
   "outputs": [],
   "source": [
    "app.run()"
   ]
  },
  {
   "cell_type": "code",
   "execution_count": null,
   "metadata": {},
   "outputs": [],
   "source": []
  }
 ],
 "metadata": {
  "kernelspec": {
   "display_name": "Python 3",
   "language": "python",
   "name": "python3"
  },
  "language_info": {
   "codemirror_mode": {
    "name": "ipython",
    "version": 3
   },
   "file_extension": ".py",
   "mimetype": "text/x-python",
   "name": "python",
   "nbconvert_exporter": "python",
   "pygments_lexer": "ipython3",
   "version": "3.7.4"
  }
 },
 "nbformat": 4,
 "nbformat_minor": 4
}
