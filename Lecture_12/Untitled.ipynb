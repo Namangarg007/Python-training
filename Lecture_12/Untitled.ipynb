{
 "cells": [
  {
   "cell_type": "code",
   "execution_count": 1,
   "metadata": {},
   "outputs": [],
   "source": [
    "from flask import Flask, request\n",
    "import random\n",
    "import requests"
   ]
  },
  {
   "cell_type": "code",
   "execution_count": 2,
   "metadata": {},
   "outputs": [],
   "source": [
    "app = Flask(\"hello\")\n",
    "\n",
    "token = '1234567890'"
   ]
  },
  {
   "cell_type": "code",
   "execution_count": 3,
   "metadata": {},
   "outputs": [],
   "source": [
    "def bot(recipient, text):\n",
    "    \n",
    "    url =r\"https://graph.facebook.com/v6.0/me/messages?access_token=EAADynbXTAgoBAExFMnDpDuxi2ZCoFYmiLjOz3nWBCcn0380KPDtUhDeZC14xqcjWHWikpAJycpcJ8ZC7QUjIbvtVow55iEiL4p2LkBwhUY1nDPRaZCROluFpGh6pWkCEjLlbIOsqqiupYulDlISqZC5M2YmjmC3EIrRLTn0OJ0dWGIYq8UofM\" #facebook Send api with page token to send chat\n",
    "    \n",
    "    d1 = {\n",
    "        \"recipient\":{\n",
    "            \"id\" : recipient \n",
    "        },\n",
    "        \"message\":{\n",
    "             \"text\" : \"Bot is Talking, Here is your Welcome Image\"\n",
    "        }\n",
    "    }\n",
    "    \n",
    "    d2 = {\n",
    "        \"recipient\":{\n",
    "            \"id\" : recipient \n",
    "        },\n",
    "        \"message\":{\n",
    "            \"attachment\":{\n",
    "                \"type\":\"Image\",\n",
    "                \"payload\" :{\n",
    "                    \"url\" : r\"https://d1csarkz8obe9u.cloudfront.net/posterpreviews/blue-welcome-church-video-poster-template-df977a81710d4201a1a2a6546958ea54_screen.jpg?ts=1567088234\"\n",
    "                    , \"is_reusable\" : True\n",
    "                }\n",
    "            }\n",
    "        }\n",
    "    }\n",
    "    \n",
    "    requests.post(url, json=d1)\n",
    "    requests.post(url, json=d2)\n",
    "    "
   ]
  },
  {
   "cell_type": "code",
   "execution_count": 4,
   "metadata": {},
   "outputs": [],
   "source": [
    "@app.route(\"/check/\", methods=['get'])\n",
    "def hi():\n",
    "    return \"Working\"\n",
    "\n",
    "@app.route(\"/callback/\", methods=['GET'])\n",
    "def get_callback():\n",
    "    if token == request.args.get(\"hub.verify_token\"):\n",
    "        return request.args.get(\"hub.challenge\")\n",
    "    else:\n",
    "        return \"Not Working\"\n",
    "    \n",
    "@app.route(\"/callback/\", methods=['POST'])\n",
    "def post_callback():\n",
    "    output = request.get_json()\n",
    "    print(output)\n",
    "    for entry in output.get(\"entry\"):\n",
    "        if \"messaging\" in entry:\n",
    "            for messaging in entry.get(\"messaging\"):\n",
    "                sender = messaging.get(\"sender\").get(\"id\")\n",
    "                recipient = messaging.get(\"recipient\").get(\"id\")\n",
    "                if \"text\" in messaging.get(\"message\"):\n",
    "                    text = messaging.get(\"message\").get(\"text\")\n",
    "                    \n",
    "                print(sender, recipient, text)\n",
    "                bot(sender, text)\n",
    "    \n",
    "    return \"done\""
   ]
  },
  {
   "cell_type": "code",
   "execution_count": null,
   "metadata": {},
   "outputs": [
    {
     "name": "stdout",
     "output_type": "stream",
     "text": [
      " * Serving Flask app \"hello\" (lazy loading)\n",
      " * Environment: production\n",
      "   WARNING: This is a development server. Do not use it in a production deployment.\n",
      "   Use a production WSGI server instead.\n",
      " * Debug mode: off\n"
     ]
    },
    {
     "name": "stderr",
     "output_type": "stream",
     "text": [
      " * Running on http://127.0.0.1:5000/ (Press CTRL+C to quit)\n"
     ]
    },
    {
     "name": "stdout",
     "output_type": "stream",
     "text": [
      "{'object': 'page', 'entry': [{'id': '101420884776205', 'time': 1581337240374, 'messaging': [{'sender': {'id': '3504924836247863'}, 'recipient': {'id': '101420884776205'}, 'timestamp': 1581337240088, 'message': {'mid': 'm_bREwnoUy6NcW-mEmsgDX1GKA0GKHP2bhmn_HaY6daKJ3B-D1viRmh7k-7GlCmDlEtKJRIQuAqsKbEbGl79w9og', 'text': 'hh'}}]}]}\n",
      "3504924836247863 101420884776205 hh\n"
     ]
    },
    {
     "name": "stderr",
     "output_type": "stream",
     "text": [
      "127.0.0.1 - - [10/Feb/2020 17:50:43] \"\u001b[37mPOST /callback/ HTTP/1.1\u001b[0m\" 200 -\n"
     ]
    },
    {
     "name": "stdout",
     "output_type": "stream",
     "text": [
      "{'object': 'page', 'entry': [{'id': '101420884776205', 'time': 1581337352899, 'messaging': [{'sender': {'id': '3504924836247863'}, 'recipient': {'id': '101420884776205'}, 'timestamp': 1581337352661, 'message': {'mid': 'm_xmnc_2UHMO8p6fkqL5yqKmKA0GKHP2bhmn_HaY6daKIexHOPB8Mcaog0BuxP5pW4iH4rwJ5htSYj-SrBsl-SUw', 'text': 'hello'}}]}]}\n",
      "3504924836247863 101420884776205 hello\n"
     ]
    },
    {
     "name": "stderr",
     "output_type": "stream",
     "text": [
      "127.0.0.1 - - [10/Feb/2020 17:52:36] \"\u001b[37mPOST /callback/ HTTP/1.1\u001b[0m\" 200 -\n"
     ]
    }
   ],
   "source": [
    "app.run()"
   ]
  },
  {
   "cell_type": "code",
   "execution_count": null,
   "metadata": {},
   "outputs": [],
   "source": []
  }
 ],
 "metadata": {
  "kernelspec": {
   "display_name": "Python 3",
   "language": "python",
   "name": "python3"
  },
  "language_info": {
   "codemirror_mode": {
    "name": "ipython",
    "version": 3
   },
   "file_extension": ".py",
   "mimetype": "text/x-python",
   "name": "python",
   "nbconvert_exporter": "python",
   "pygments_lexer": "ipython3",
   "version": "3.7.4"
  }
 },
 "nbformat": 4,
 "nbformat_minor": 4
}
