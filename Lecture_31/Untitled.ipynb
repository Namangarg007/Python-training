{
 "cells": [
  {
   "cell_type": "code",
   "execution_count": 4,
   "metadata": {},
   "outputs": [],
   "source": [
    "import cv2"
   ]
  },
  {
   "cell_type": "code",
   "execution_count": null,
   "metadata": {},
   "outputs": [],
   "source": [
    "cap = cv2.VideoCapture(0) #used to open the camera app and capture video\n",
    "\n",
    "while True:\n",
    "    \n",
    "    retval, image = cap.read()#used to read the video comming from cap\n",
    "    \n",
    "    if retval:\n",
    "        \n",
    "        x, y, w, h = 250, 300, 300, 300\n",
    "        \n",
    "        cut = image[y:y+h, x:x:w] #selected an area of 300 X 300 from 250, 300\n",
    "        \n",
    "        cut[:,:,:2] = 0 #changing the color values of first two layers of cut as cv2 works on BGR the B&G layer values will turn to 0 and only R values remain\n",
    "        \n",
    "        cv2.imshow(\"Whole\", image)\n",
    "        \n",
    "        key = cv2.waitKey(10) # to hold the video app\n",
    "        \n",
    "        if key == ord('q'): # ord is used to make shure that when q is pressed the while loop is ended\n",
    "            break\n",
    "            \n",
    "        if key == ord('c'):\n",
    "            cv2.imwrite(\"Captured image.png\", image) # to capture image when c is pressed\n",
    "\n",
    "cap.release()\n",
    "cv2.destroyAllWindows()\n"
   ]
  }
 ],
 "metadata": {
  "kernelspec": {
   "display_name": "Python 3",
   "language": "python",
   "name": "python3"
  },
  "language_info": {
   "codemirror_mode": {
    "name": "ipython",
    "version": 3
   },
   "file_extension": ".py",
   "mimetype": "text/x-python",
   "name": "python",
   "nbconvert_exporter": "python",
   "pygments_lexer": "ipython3",
   "version": "3.7.5"
  }
 },
 "nbformat": 4,
 "nbformat_minor": 2
}
