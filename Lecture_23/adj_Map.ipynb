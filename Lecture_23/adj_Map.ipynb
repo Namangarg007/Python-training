{
 "cells": [
  {
   "cell_type": "code",
   "execution_count": 1,
   "metadata": {},
   "outputs": [],
   "source": [
    "class vertex:\n",
    "\n",
    "    def __init__(self, value):\n",
    "        self.value = value\n",
    "        self.neighbour = {}\n",
    "\n",
    "    def __repr__(self):\n",
    "        return str(self.value)"
   ]
  },
  {
   "cell_type": "code",
   "execution_count": 2,
   "metadata": {},
   "outputs": [],
   "source": [
    "class Graph:\n",
    "    \n",
    "    def __init__(self):\n",
    "        self.vertices = {}\n",
    "        \n",
    "    def find(self, value):\n",
    "        \n",
    "        return self.vertices.get(value)\n",
    "    \n",
    "    def add_vertex(self, value):\n",
    "\n",
    "        if not self.find(value):\n",
    "            self.vertices[value] = vertex(value)\n",
    "        else:\n",
    "            print(value, \"already Exist's\")\n",
    "    \n",
    "    def add_edge(self, source, target, weight=1):\n",
    "        source_v = self.find(source)\n",
    "        target_v = self.find(target)\n",
    "        if source_v and target_v:\n",
    "            source_v.neighbour[target_v] = weight\n",
    "            target_v.neighbour[source_v] = weight\n",
    "        else:\n",
    "            print(source, \"or\", target, \"doesn't exist\")\n",
    "            \n",
    "    \n",
    "    def display(self):\n",
    "\n",
    "        for vertex in self.vertices.values():\n",
    "            print(vertex, \" : \", vertex.neighbour)\n"
   ]
  },
  {
   "cell_type": "code",
   "execution_count": 7,
   "metadata": {},
   "outputs": [],
   "source": [
    "g = Graph()\n",
    "g.add_vertex(1)\n",
    "g.add_vertex(2)\n",
    "g.add_vertex(3)\n",
    "g.add_vertex(4)\n",
    "g.add_vertex(5)\n",
    "g.add_vertex(6)\n",
    "g.add_edge(1, 2)\n",
    "g.add_edge(1, 3)\n",
    "g.add_edge(4, 5)\n",
    "g.add_edge(4, 6)\n",
    "g.add_edge(1, 6)\n",
    "g.add_edge(5, 6)"
   ]
  },
  {
   "cell_type": "code",
   "execution_count": 8,
   "metadata": {},
   "outputs": [
    {
     "name": "stdout",
     "output_type": "stream",
     "text": [
      "1  :  {2: 1, 3: 1, 6: 1}\n",
      "2  :  {1: 1}\n",
      "3  :  {1: 1}\n",
      "4  :  {5: 1, 6: 1}\n",
      "5  :  {4: 1, 6: 1}\n",
      "6  :  {4: 1, 1: 1, 5: 1}\n"
     ]
    }
   ],
   "source": [
    "g.display()"
   ]
  },
  {
   "cell_type": "code",
   "execution_count": null,
   "metadata": {},
   "outputs": [],
   "source": []
  }
 ],
 "metadata": {
  "kernelspec": {
   "display_name": "Python 3",
   "language": "python",
   "name": "python3"
  },
  "language_info": {
   "codemirror_mode": {
    "name": "ipython",
    "version": 3
   },
   "file_extension": ".py",
   "mimetype": "text/x-python",
   "name": "python",
   "nbconvert_exporter": "python",
   "pygments_lexer": "ipython3",
   "version": "3.7.6"
  }
 },
 "nbformat": 4,
 "nbformat_minor": 4
}
