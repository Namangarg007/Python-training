{
 "cells": [
  {
   "cell_type": "code",
   "execution_count": 1,
   "metadata": {},
   "outputs": [],
   "source": [
    "class vertex:\n",
    "\n",
    "    def __init__(self, value):\n",
    "        self.value = value\n",
    "        self.neighbour = []\n",
    "\n",
    "    def __repr__(self):\n",
    "        return str(self.value)"
   ]
  },
  {
   "cell_type": "code",
   "execution_count": 2,
   "metadata": {},
   "outputs": [],
   "source": [
    "class Graph:\n",
    "\n",
    "    def __init__(self):\n",
    "        self.vertices = []\n",
    "\n",
    "    def find(self, value):\n",
    "        for vertex in self.vertices:\n",
    "            if vertex.value == value:\n",
    "                return vertex\n",
    "        return None\n",
    "\n",
    "    def add_vertex(self, value):\n",
    "\n",
    "        if not self.find(value):\n",
    "            self.vertices.append(vertex(value))\n",
    "        else:\n",
    "            print(value, \"already Exist's\")\n",
    "\n",
    "    def add_edge(self, source, target):\n",
    "        source_v = self.find(source)\n",
    "        target_v = self.find(target)\n",
    "        if source_v and target_v:\n",
    "            source_v.neighbour.append(target_v)\n",
    "            target_v.neighbour.append(source_v)\n",
    "        else:\n",
    "            print(source, \"or\", target, \"doesn't exist\")\n",
    "\n",
    "    def display(self):\n",
    "\n",
    "        for vertex in self.vertices:\n",
    "            print(vertex, end=\" : \")\n",
    "\n",
    "            # way 1\n",
    "            print(\", \".join([str(neighbour) for neighbour in vertex.neighbour]))\n",
    "\n",
    "            # way 2\n",
    "            # for neighbour in vertex.neighbour:\n",
    "            #    print(neighbour, end=\", \")\n",
    "            # print()\n",
    "    \n",
    "    def connected_components(self, source=None):\n",
    "     \n",
    "        \n",
    "        queue = list()\n",
    "        visited = set()\n",
    "        \n",
    "        components = []\n",
    "        \n",
    "        for vertex in self.vertices:\n",
    "            \n",
    "            if vertex not in visited:\n",
    "                \n",
    "                component = set()\n",
    "        \n",
    "                queue.append(vertex)\n",
    "                visited.add(vertex)\n",
    "\n",
    "                while len(queue) > 0:\n",
    "                    vertex = queue.pop(0)\n",
    "                    \n",
    "                    component.add(vertex)\n",
    "\n",
    "                    for neighbour in vertex.neighbour:\n",
    "                        if neighbour not in visited:\n",
    "                            visited.add(neighbour)\n",
    "                            queue.append(neighbour)\n",
    "                \n",
    "                components.append(component)\n",
    "        \n",
    "        return components\n",
    "    \n",
    "    def is_bartite(self, source=None):\n",
    "     \n",
    "        \n",
    "        queue = list()\n",
    "        visited = set()\n",
    "        \n",
    "        red = set()\n",
    "        green = set()\n",
    "        \n",
    "        for vertex in self.vertices:\n",
    "            \n",
    "            if vertex not in visited:\n",
    "                \n",
    "                component = set()\n",
    "        \n",
    "                queue.append(vertex)\n",
    "                visited.add(vertex)\n",
    "                red.add(vertex)\n",
    "\n",
    "                while len(queue) > 0:\n",
    "                    vertex = queue.pop(0)\n",
    "                    \n",
    "                    component.add(vertex)\n",
    "\n",
    "                    for neighbour in vertex.neighbour:\n",
    "                        if neighbour not in visited:\n",
    "                            if vertex in red:\n",
    "                                green.add(neighbour)\n",
    "                            else:\n",
    "                                red.add(neighbour)\n",
    "                                \n",
    "                            visited.add(neighbour)\n",
    "                            queue.append(neighbour)\n",
    "                        else:\n",
    "                            if vertex in red and neighbour in red:\n",
    "                                return False\n",
    "                            elif vertex in green and neighbour in green:\n",
    "                                return False\n",
    "        \n",
    "        return True\n",
    "    "
   ]
  },
  {
   "cell_type": "code",
   "execution_count": 3,
   "metadata": {},
   "outputs": [],
   "source": [
    "g = Graph()\n",
    "g.add_vertex(1)\n",
    "g.add_vertex(2)\n",
    "g.add_vertex(3)\n",
    "g.add_vertex(4)\n",
    "g.add_vertex(5)\n",
    "g.add_vertex(6)\n",
    "g.add_edge(1, 2)\n",
    "g.add_edge(1, 3)\n",
    "g.add_edge(4, 5)\n",
    "g.add_edge(4, 6)"
   ]
  },
  {
   "cell_type": "code",
   "execution_count": 4,
   "metadata": {},
   "outputs": [
    {
     "name": "stdout",
     "output_type": "stream",
     "text": [
      "[{3, 1, 2}, {5, 4, 6}]\n"
     ]
    }
   ],
   "source": [
    "print(g.connected_components())"
   ]
  },
  {
   "cell_type": "code",
   "execution_count": 5,
   "metadata": {},
   "outputs": [
    {
     "data": {
      "text/plain": [
       "True"
      ]
     },
     "execution_count": 5,
     "metadata": {},
     "output_type": "execute_result"
    }
   ],
   "source": [
    "g.is_bartite()"
   ]
  },
  {
   "cell_type": "code",
   "execution_count": 6,
   "metadata": {},
   "outputs": [],
   "source": [
    "g.add_edge(3, 2)"
   ]
  },
  {
   "cell_type": "code",
   "execution_count": 7,
   "metadata": {},
   "outputs": [
    {
     "data": {
      "text/plain": [
       "False"
      ]
     },
     "execution_count": 7,
     "metadata": {},
     "output_type": "execute_result"
    }
   ],
   "source": [
    "g.is_bartite()"
   ]
  },
  {
   "cell_type": "code",
   "execution_count": null,
   "metadata": {},
   "outputs": [],
   "source": []
  }
 ],
 "metadata": {
  "kernelspec": {
   "display_name": "Python 3",
   "language": "python",
   "name": "python3"
  },
  "language_info": {
   "codemirror_mode": {
    "name": "ipython",
    "version": 3
   },
   "file_extension": ".py",
   "mimetype": "text/x-python",
   "name": "python",
   "nbconvert_exporter": "python",
   "pygments_lexer": "ipython3",
   "version": "3.7.6"
  }
 },
 "nbformat": 4,
 "nbformat_minor": 4
}
