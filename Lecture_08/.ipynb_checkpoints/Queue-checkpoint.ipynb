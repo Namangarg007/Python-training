{
 "cells": [
  {
   "cell_type": "code",
   "execution_count": 1,
   "metadata": {},
   "outputs": [],
   "source": [
    "import numpy as np"
   ]
  },
  {
   "cell_type": "code",
   "execution_count": 8,
   "metadata": {},
   "outputs": [],
   "source": [
    "class Queue:\n",
    "    \n",
    "    def __init__(self):\n",
    "        self.__end = -1\n",
    "        self.__size = 0\n",
    "        self.__data = np.zeros((10,), dtype= int)\n",
    "        \n",
    "    def isFull(self):\n",
    "        return self.__size == len(self.__data)\n",
    "    \n",
    "    def isEmpty(self):\n",
    "        return self.__size == 0\n",
    "    \n",
    "    def add(self, value):\n",
    "        if self.isFull():\n",
    "            return \"queue is full\"\n",
    "        \n",
    "        else:\n",
    "            self.__end += 1\n",
    "            self.__data[self.__end] = value\n",
    "            self.__size += 1\n",
    "        \n",
    "    def remove(self):\n",
    "        if self.isEmpty():\n",
    "            return \"Queue is empty\"\n",
    "        \n",
    "        else:\n",
    "            remove = self.__data[0]\n",
    "            for i in range(self.__end):\n",
    "                self.__data[i] = self.__data[i + 1]\n",
    "                \n",
    "            self.__end -= 1\n",
    "            self.__size -= 1\n",
    "            return remove\n",
    "                \n",
    "    def __repr__(self):\n",
    "        return str(self.__data[:self.__end+1])"
   ]
  },
  {
   "cell_type": "code",
   "execution_count": 9,
   "metadata": {},
   "outputs": [],
   "source": [
    "q = Queue()"
   ]
  },
  {
   "cell_type": "code",
   "execution_count": 10,
   "metadata": {},
   "outputs": [],
   "source": [
    "q.add(10)\n",
    "q.add(11)\n",
    "q.add(12)\n",
    "q.add(20)"
   ]
  },
  {
   "cell_type": "code",
   "execution_count": 11,
   "metadata": {},
   "outputs": [
    {
     "data": {
      "text/plain": [
       "10"
      ]
     },
     "execution_count": 11,
     "metadata": {},
     "output_type": "execute_result"
    }
   ],
   "source": [
    "q.remove()"
   ]
  },
  {
   "cell_type": "code",
   "execution_count": 12,
   "metadata": {},
   "outputs": [
    {
     "data": {
      "text/plain": [
       "[11 12 20]"
      ]
     },
     "execution_count": 12,
     "metadata": {},
     "output_type": "execute_result"
    }
   ],
   "source": [
    "q"
   ]
  },
  {
   "cell_type": "code",
   "execution_count": null,
   "metadata": {},
   "outputs": [],
   "source": []
  }
 ],
 "metadata": {
  "kernelspec": {
   "display_name": "Python 3",
   "language": "python",
   "name": "python3"
  },
  "language_info": {
   "codemirror_mode": {
    "name": "ipython",
    "version": 3
   },
   "file_extension": ".py",
   "mimetype": "text/x-python",
   "name": "python",
   "nbconvert_exporter": "python",
   "pygments_lexer": "ipython3",
   "version": "3.7.4"
  }
 },
 "nbformat": 4,
 "nbformat_minor": 4
}
