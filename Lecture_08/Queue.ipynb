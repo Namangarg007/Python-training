{
 "cells": [
  {
   "cell_type": "code",
   "execution_count": 1,
   "metadata": {},
   "outputs": [],
   "source": [
    "import numpy as np"
   ]
  },
  {
   "cell_type": "code",
   "execution_count": 125,
   "metadata": {},
   "outputs": [],
   "source": [
    "class Queue:\n",
    "    \n",
    "    def __init__(self):\n",
    "        self.__end = -1\n",
    "        self.__size = 0\n",
    "        self.__data = np.zeros((10,), dtype= int)\n",
    "        \n",
    "    def isFull(self):\n",
    "        return self.__size == len(self.__data)\n",
    "    \n",
    "    def isEmpty(self):\n",
    "        return self.__size == 0\n",
    "    \n",
    "    def size(self):        \n",
    "        return self.__size\n",
    "    \n",
    "    def add(self, value):\n",
    "        if self.isFull():\n",
    "            return \"queue is full\"\n",
    "        \n",
    "        else:\n",
    "            self.__end += 1\n",
    "            self.__data[self.__end] = value\n",
    "            self.__size += 1\n",
    "    \n",
    "    \n",
    "    def remove(self):\n",
    "        if self.isEmpty():\n",
    "            return \"Queue is empty\"\n",
    "        \n",
    "        else:\n",
    "            remove = self.__data[0]\n",
    "            for i in range(self.__end):\n",
    "                self.__data[i] = self.__data[i + 1]\n",
    "                \n",
    "            self.__end -= 1\n",
    "            self.__size -= 1\n",
    "            return remove\n",
    "                \n",
    "    def __repr__(self):\n",
    "        return str(self.__data[:self.__end+1])"
   ]
  },
  {
   "cell_type": "code",
   "execution_count": 3,
   "metadata": {},
   "outputs": [],
   "source": [
    "q = Queue()"
   ]
  },
  {
   "cell_type": "code",
   "execution_count": 4,
   "metadata": {},
   "outputs": [],
   "source": [
    "q.add(10)\n",
    "q.add(11)\n",
    "q.add(12)\n",
    "q.add(20)"
   ]
  },
  {
   "cell_type": "code",
   "execution_count": 5,
   "metadata": {},
   "outputs": [
    {
     "data": {
      "text/plain": [
       "10"
      ]
     },
     "execution_count": 5,
     "metadata": {},
     "output_type": "execute_result"
    }
   ],
   "source": [
    "q.remove()"
   ]
  },
  {
   "cell_type": "code",
   "execution_count": 6,
   "metadata": {},
   "outputs": [
    {
     "data": {
      "text/plain": [
       "[11 12 20]"
      ]
     },
     "execution_count": 6,
     "metadata": {},
     "output_type": "execute_result"
    }
   ],
   "source": [
    "q"
   ]
  },
  {
   "cell_type": "markdown",
   "metadata": {},
   "source": [
    "# Circular Queue"
   ]
  },
  {
   "cell_type": "code",
   "execution_count": 79,
   "metadata": {},
   "outputs": [],
   "source": [
    "class CircularQueue:\n",
    "    \n",
    "    def __init__(self):\n",
    "        self.__front = 0\n",
    "        self.__end = 0\n",
    "        self.__size = 0\n",
    "        self.__data = np.zeros((10,), dtype = int)\n",
    "        \n",
    "    def isFull(self):\n",
    "        return self.__size == len(self.__data)\n",
    "    \n",
    "    def isEmpty(self):\n",
    "        return self.__size == 0\n",
    "    \n",
    "    def size(self):        \n",
    "        return self.__size\n",
    "    \n",
    "    def add(self, value):\n",
    "        \n",
    "        if self.isFull():\n",
    "            print(\"Queue is Full\")\n",
    "        \n",
    "        else: \n",
    "            self.__data[self.__end] = value\n",
    "            self.__end +=1\n",
    "            self.__end = self.__end % len(self.__data)\n",
    "            self.__size +=1\n",
    "\n",
    "    def remove(self):\n",
    "        if self.isEmpty():\n",
    "            print(\"Queue is Empty\")\n",
    "            \n",
    "        else:\n",
    "            removed = self.__data[self.__front]\n",
    "            self.__front +=1\n",
    "            self.__front = self.__front % len(self.__data)\n",
    "            self.__size -=1\n",
    "            return removed\n",
    "            \n",
    "    def __repr__(self):\n",
    "        if self.__size == 0:\n",
    "            return '[]'\n",
    "        elif self.__front < self.__end:\n",
    "            cut = self.__data[self.__front:self.__end]\n",
    "        else:\n",
    "            cut1 = self.__data[self.__front:]\n",
    "            cut2 = self.__data[:self.__end]\n",
    "            cut =  np.concatenate((cut1, cut2))\n",
    "            return f'[{\", \".join(map(str, cut))}]'"
   ]
  },
  {
   "cell_type": "code",
   "execution_count": 80,
   "metadata": {},
   "outputs": [],
   "source": [
    "cq = CircularQueue()"
   ]
  },
  {
   "cell_type": "code",
   "execution_count": 81,
   "metadata": {},
   "outputs": [],
   "source": [
    "for i in range(10):\n",
    "    cq.add(i+1)\n",
    "    "
   ]
  },
  {
   "cell_type": "code",
   "execution_count": 82,
   "metadata": {},
   "outputs": [
    {
     "data": {
      "text/plain": [
       "[1, 2, 3, 4, 5, 6, 7, 8, 9, 10]"
      ]
     },
     "execution_count": 82,
     "metadata": {},
     "output_type": "execute_result"
    }
   ],
   "source": [
    "cq"
   ]
  },
  {
   "cell_type": "code",
   "execution_count": 83,
   "metadata": {},
   "outputs": [
    {
     "data": {
      "text/plain": [
       "1"
      ]
     },
     "execution_count": 83,
     "metadata": {},
     "output_type": "execute_result"
    }
   ],
   "source": [
    "cq.remove()"
   ]
  },
  {
   "cell_type": "code",
   "execution_count": 84,
   "metadata": {},
   "outputs": [
    {
     "data": {
      "text/plain": [
       "[2, 3, 4, 5, 6, 7, 8, 9, 10]"
      ]
     },
     "execution_count": 84,
     "metadata": {},
     "output_type": "execute_result"
    }
   ],
   "source": [
    "cq"
   ]
  },
  {
   "cell_type": "markdown",
   "metadata": {},
   "source": [
    "# Stack Using Queue"
   ]
  },
  {
   "cell_type": "code",
   "execution_count": 126,
   "metadata": {},
   "outputs": [],
   "source": [
    "# add Effecient\n",
    "class SUQ:\n",
    "    \n",
    "    def __init__(self):\n",
    "        \n",
    "        self.q1 = Queue()\n",
    "        self.q2 = Queue()\n",
    "        \n",
    "    def add(self, value):\n",
    "        self.q1.add(value)\n",
    "        \n",
    "    def pop(self):\n",
    "        while self.q1.size() != 1 :\n",
    "            self.q2.add(self.q1.remove())\n",
    "        removed = self.q1.remove()\n",
    "        self.q1, self.q2 = self.q2, self.q1\n",
    "        return removed\n",
    "    \n",
    "    def dis(self):\n",
    "        print(self.q1)"
   ]
  },
  {
   "cell_type": "code",
   "execution_count": 127,
   "metadata": {},
   "outputs": [
    {
     "name": "stdout",
     "output_type": "stream",
     "text": [
      "[ 1  2  3  4  5  6  7  8  9 10]\n"
     ]
    },
    {
     "data": {
      "text/plain": [
       "10"
      ]
     },
     "execution_count": 127,
     "metadata": {},
     "output_type": "execute_result"
    }
   ],
   "source": [
    "sq = SUQ()\n",
    "\n",
    "for i in range(10):\n",
    "    sq.add(i + 1)\n",
    "\n",
    "sq.dis()\n",
    "\n",
    "sq.pop()"
   ]
  },
  {
   "cell_type": "code",
   "execution_count": 128,
   "metadata": {},
   "outputs": [
    {
     "name": "stdout",
     "output_type": "stream",
     "text": [
      "[1 2 3 4 5 6 7 8 9]\n"
     ]
    }
   ],
   "source": [
    "sq.dis()"
   ]
  },
  {
   "cell_type": "code",
   "execution_count": 131,
   "metadata": {},
   "outputs": [],
   "source": [
    "#Remove effecient\n",
    "class SUQ:\n",
    "    \n",
    "    def __init__(self):\n",
    "        \n",
    "        self.q1 = CircularQueue()\n",
    "        self.q2 = CircularQueue()\n",
    "        \n",
    "    def add(self, value):\n",
    "        self.q2.add(value)\n",
    "        while not self.q1.isEmpty() :\n",
    "            self.q2.add(self.q1.remove())\n",
    "        self.q1, self.q2 = self.q2, self.q1\n",
    "        \n",
    "        \n",
    "    def pop(self):\n",
    "        return self.q1.remove()\n",
    "    def dis(self):\n",
    "        print(self.q1)"
   ]
  },
  {
   "cell_type": "code",
   "execution_count": null,
   "metadata": {},
   "outputs": [],
   "source": []
  },
  {
   "cell_type": "code",
   "execution_count": 132,
   "metadata": {},
   "outputs": [
    {
     "name": "stdout",
     "output_type": "stream",
     "text": [
      "[10, 9, 8, 7, 6, 5, 4, 3, 2, 1]\n"
     ]
    },
    {
     "data": {
      "text/plain": [
       "10"
      ]
     },
     "execution_count": 132,
     "metadata": {},
     "output_type": "execute_result"
    }
   ],
   "source": [
    "sq = SUQ()\n",
    "\n",
    "for i in range(10):\n",
    "    sq.add(i + 1)\n",
    "\n",
    "sq.dis()\n",
    "\n",
    "sq.pop()"
   ]
  },
  {
   "cell_type": "code",
   "execution_count": null,
   "metadata": {},
   "outputs": [],
   "source": []
  }
 ],
 "metadata": {
  "kernelspec": {
   "display_name": "Python 3",
   "language": "python",
   "name": "python3"
  },
  "language_info": {
   "codemirror_mode": {
    "name": "ipython",
    "version": 3
   },
   "file_extension": ".py",
   "mimetype": "text/x-python",
   "name": "python",
   "nbconvert_exporter": "python",
   "pygments_lexer": "ipython3",
   "version": "3.7.4"
  }
 },
 "nbformat": 4,
 "nbformat_minor": 4
}
