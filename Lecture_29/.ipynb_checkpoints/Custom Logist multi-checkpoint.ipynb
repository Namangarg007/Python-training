{
 "cells": [
  {
   "cell_type": "code",
   "execution_count": 1,
   "metadata": {},
   "outputs": [],
   "source": [
    "import numpy as np\n",
    "import matplotlib.pyplot as plt\n",
    "\n",
    "from sklearn.datasets import make_blobs"
   ]
  },
  {
   "cell_type": "code",
   "execution_count": 2,
   "metadata": {},
   "outputs": [],
   "source": [
    "x, y = make_blobs(centers=2, random_state=42)"
   ]
  },
  {
   "cell_type": "code",
   "execution_count": 3,
   "metadata": {
    "scrolled": true
   },
   "outputs": [
    {
     "data": {
      "text/plain": [
       "<matplotlib.collections.PathCollection at 0x7fd53a512310>"
      ]
     },
     "execution_count": 3,
     "metadata": {},
     "output_type": "execute_result"
    },
    {
     "data": {
      "image/png": "[encoded data removed]",
      "text/plain": [
       "<Figure size 432x288 with 1 Axes>"
      ]
     },
     "metadata": {
      "needs_background": "light"
     },
     "output_type": "display_data"
    }
   ],
   "source": [
    "plt.scatter(x[:, 0], x[:, 1], c=y)"
   ]
  },
  {
   "cell_type": "code",
   "execution_count": 36,
   "metadata": {},
   "outputs": [],
   "source": [
    "class CustomLogisticReg:\n",
    "    \n",
    "    def __init__(self, lr = .1, max_iters = 50):\n",
    "        \n",
    "        self.lr = lr\n",
    "        self.max_iters = max_iters\n",
    "        \n",
    "    def fit(self, x, y):\n",
    "        \n",
    "        x = np.hstack([np.ones((x.shape[0], 1)), x])\n",
    "        \n",
    "        self.theta = np.random.randn(x.shape[1], 1)\n",
    "        \n",
    "        for i in range(self.max_iters):\n",
    "            \n",
    "            self.gradient_accend(x, y)\n",
    "            \n",
    "    def gradient_accend(self, x, y):\n",
    "        \n",
    "        delta_theta = self.gradient(x, y)\n",
    "        \n",
    "        self.theta += delta_theta\n",
    "        \n",
    "    def gradient(self, x, y):\n",
    "        \n",
    "        ya = y.reshape(-1, 1)\n",
    "        yp = self.hypo(x)\n",
    "        \n",
    "        diff = (ya - yp)\n",
    "        \n",
    "        dlltheta = np.dot(x.T, diff)/len(x)\n",
    "        \n",
    "        return dlltheta * self.lr\n",
    "        \n",
    "    def hypo(self, x):\n",
    "        \n",
    "        g = np.dot(x, self.theta)\n",
    "        return 1/(1 + np.exp(-g))\n",
    "    \n",
    "    def predict(self, x):\n",
    "        x = np.hstack([np.ones((x.shape[0], 1)), x])\n",
    "        result = self.hypo(x)\n",
    "        return (result > .5).astype(int).flatten()\n",
    "    \n",
    "    def score(self, x, y):\n",
    "        \n",
    "        yp = self.predict(x)\n",
    "        return (yp == y).mean()"
   ]
  },
  {
   "cell_type": "code",
   "execution_count": 37,
   "metadata": {},
   "outputs": [],
   "source": [
    "model = CustomLogisticReg()"
   ]
  },
  {
   "cell_type": "code",
   "execution_count": 38,
   "metadata": {},
   "outputs": [],
   "source": [
    "model.fit(x, y)"
   ]
  },
  {
   "cell_type": "code",
   "execution_count": 39,
   "metadata": {},
   "outputs": [
    {
     "data": {
      "text/plain": [
       "array([[-3.1000353 ],\n",
       "       [ 2.14884616],\n",
       "       [-0.50627904]])"
      ]
     },
     "execution_count": 39,
     "metadata": {},
     "output_type": "execute_result"
    }
   ],
   "source": [
    "model.theta"
   ]
  },
  {
   "cell_type": "code",
   "execution_count": 40,
   "metadata": {},
   "outputs": [
    {
     "data": {
      "text/plain": [
       "array([0, 1, 0, 1, 1, 0, 1, 1, 0, 0])"
      ]
     },
     "execution_count": 40,
     "metadata": {},
     "output_type": "execute_result"
    }
   ],
   "source": [
    "model.predict(x[:10])"
   ]
  },
  {
   "cell_type": "code",
   "execution_count": 41,
   "metadata": {},
   "outputs": [
    {
     "data": {
      "text/plain": [
       "array([0, 1, 0, 1, 1, 0, 1, 1, 0, 0])"
      ]
     },
     "execution_count": 41,
     "metadata": {},
     "output_type": "execute_result"
    }
   ],
   "source": [
    "y[:10]"
   ]
  },
  {
   "cell_type": "code",
   "execution_count": 42,
   "metadata": {},
   "outputs": [
    {
     "data": {
      "text/plain": [
       "1.0"
      ]
     },
     "execution_count": 42,
     "metadata": {},
     "output_type": "execute_result"
    }
   ],
   "source": [
    "model.score(x, y)"
   ]
  },
  {
   "cell_type": "code",
   "execution_count": null,
   "metadata": {},
   "outputs": [],
   "source": []
  }
 ],
 "metadata": {
  "kernelspec": {
   "display_name": "Python 3",
   "language": "python",
   "name": "python3"
  },
  "language_info": {
   "codemirror_mode": {
    "name": "ipython",
    "version": 3
   },
   "file_extension": ".py",
   "mimetype": "text/x-python",
   "name": "python",
   "nbconvert_exporter": "python",
   "pygments_lexer": "ipython3",
   "version": "3.7.5"
  }
 },
 "nbformat": 4,
 "nbformat_minor": 2
}
