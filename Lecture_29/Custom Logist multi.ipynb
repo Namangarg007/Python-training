{
 "cells": [
  {
   "cell_type": "code",
   "execution_count": 1,
   "metadata": {},
   "outputs": [],
   "source": [
    "import numpy as np\n",
    "import matplotlib.pyplot as plt\n",
    "\n",
    "from sklearn.datasets import make_blobs"
   ]
  },
  {
   "cell_type": "code",
   "execution_count": 2,
   "metadata": {},
   "outputs": [],
   "source": [
    "x, y = make_blobs(centers=4, random_state=42)"
   ]
  },
  {
   "cell_type": "code",
   "execution_count": 3,
   "metadata": {
    "scrolled": false
   },
   "outputs": [
    {
     "data": {
      "text/plain": [
       "<matplotlib.collections.PathCollection at 0x7f9e801a1b10>"
      ]
     },
     "execution_count": 3,
     "metadata": {},
     "output_type": "execute_result"
    },
    {
     "data": {
      "image/png": "[encoded data removed]",
      "text/plain": [
       "<Figure size 432x288 with 1 Axes>"
      ]
     },
     "metadata": {
      "needs_background": "light"
     },
     "output_type": "display_data"
    }
   ],
   "source": [
    "plt.scatter(x[:, 0], x[:, 1], c=y)"
   ]
  },
  {
   "cell_type": "code",
   "execution_count": null,
   "metadata": {},
   "outputs": [],
   "source": []
  },
  {
   "cell_type": "code",
   "execution_count": 4,
   "metadata": {},
   "outputs": [],
   "source": [
    "class CustomLogisticReg:\n",
    "    \n",
    "    def __init__(self, lr = .1, max_iters = 50):\n",
    "        \n",
    "        self.lr = lr\n",
    "        self.max_iters = max_iters\n",
    "        \n",
    "    def fit(self, x, y):\n",
    "        \n",
    "        x = np.hstack([np.ones((x.shape[0], 1)), x])\n",
    "        \n",
    "        self.classes = np.unique(y)\n",
    "    \n",
    "        thetas = []\n",
    "        \n",
    "        for klass in self.classes:\n",
    "            \n",
    "            y_mod = (y == klass).astype(int)\n",
    "            \n",
    "            theta = np.random.randn(x.shape[1], 1)\n",
    "            \n",
    "            for i in range(self.max_iters):\n",
    "            \n",
    "                theta = self.gradient_accend(x, y_mod, theta)\n",
    "                \n",
    "            thetas.append(theta)\n",
    "        \n",
    "        self.thetas = np.hstack(thetas)\n",
    "            \n",
    "    def gradient_accend(self, x, y, theta):\n",
    "        \n",
    "        delta_theta = self.gradient(x, y, theta)\n",
    "        \n",
    "        theta += delta_theta\n",
    "        \n",
    "        return theta\n",
    "        \n",
    "    def gradient(self, x, y, theta):\n",
    "        \n",
    "        ya = y.reshape(-1, 1)\n",
    "        yp = self.hypo(x, theta)\n",
    "        \n",
    "        diff = (ya - yp)\n",
    "        \n",
    "        dlltheta = np.dot(x.T, diff)/len(x)\n",
    "        \n",
    "        return dlltheta * self.lr\n",
    "        \n",
    "    def hypo(self, x, theta):\n",
    "        \n",
    "        g = np.dot(x, theta)\n",
    "        return 1 / (1 + np.exp(-g))\n",
    "    \n",
    "    def predict(self, x):\n",
    "        x = np.hstack([np.ones((x.shape[0], 1)), x])\n",
    "        result = self.hypo(x, self.thetas)\n",
    "        return result.argmax(axis=1)\n",
    "    \n",
    "    def score(self, x, y):\n",
    "        yp = self.predict(x)\n",
    "        return (yp==y).mean()"
   ]
  },
  {
   "cell_type": "code",
   "execution_count": 5,
   "metadata": {},
   "outputs": [],
   "source": [
    "model = CustomLogisticReg()"
   ]
  },
  {
   "cell_type": "code",
   "execution_count": 6,
   "metadata": {},
   "outputs": [],
   "source": [
    "model.fit(x, y)"
   ]
  },
  {
   "cell_type": "code",
   "execution_count": 7,
   "metadata": {},
   "outputs": [
    {
     "data": {
      "text/plain": [
       "array([[-1.77397798, -0.30375715, -0.44669999, -0.93924647],\n",
       "       [ 0.15119547,  0.95605545, -0.27345083, -0.11797155],\n",
       "       [ 0.3058444 , -0.17318763, -0.88726465,  0.07389173]])"
      ]
     },
     "execution_count": 7,
     "metadata": {},
     "output_type": "execute_result"
    }
   ],
   "source": [
    "model.thetas"
   ]
  },
  {
   "cell_type": "code",
   "execution_count": 8,
   "metadata": {},
   "outputs": [
    {
     "data": {
      "text/plain": [
       "array([3, 2, 0, 2, 3, 2, 1, 1, 1, 0])"
      ]
     },
     "execution_count": 8,
     "metadata": {},
     "output_type": "execute_result"
    }
   ],
   "source": [
    "model.predict(x[:10])"
   ]
  },
  {
   "cell_type": "code",
   "execution_count": 9,
   "metadata": {},
   "outputs": [
    {
     "data": {
      "text/plain": [
       "array([3, 2, 0, 2, 3, 2, 1, 1, 1, 0])"
      ]
     },
     "execution_count": 9,
     "metadata": {},
     "output_type": "execute_result"
    }
   ],
   "source": [
    "y[:10]"
   ]
  },
  {
   "cell_type": "code",
   "execution_count": 10,
   "metadata": {},
   "outputs": [
    {
     "data": {
      "text/plain": [
       "0.99"
      ]
     },
     "execution_count": 10,
     "metadata": {},
     "output_type": "execute_result"
    }
   ],
   "source": [
    "model.score(x, y)"
   ]
  },
  {
   "cell_type": "code",
   "execution_count": null,
   "metadata": {},
   "outputs": [],
   "source": []
  }
 ],
 "metadata": {
  "kernelspec": {
   "display_name": "Python 3",
   "language": "python",
   "name": "python3"
  },
  "language_info": {
   "codemirror_mode": {
    "name": "ipython",
    "version": 3
   },
   "file_extension": ".py",
   "mimetype": "text/x-python",
   "name": "python",
   "nbconvert_exporter": "python",
   "pygments_lexer": "ipython3",
   "version": "3.7.5"
  }
 },
 "nbformat": 4,
 "nbformat_minor": 2
}
