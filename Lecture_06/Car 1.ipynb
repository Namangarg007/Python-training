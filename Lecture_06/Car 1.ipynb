{
 "cells": [
  {
   "cell_type": "code",
   "execution_count": 8,
   "metadata": {},
   "outputs": [],
   "source": [
    "class Engine:\n",
    "    \n",
    "    def __init__(self):\n",
    "        self.__cycle = 5\n",
    "    \n",
    "    def start(self):\n",
    "        if self.__cycle > 0:\n",
    "            print(\"Start like generic engine\")\n",
    "            self.__cycle -=1\n",
    "        else:\n",
    "            print(\"cannot start engine\")\n",
    "            \n",
    "    def stop(self):\n",
    "        print(\"Stop like generic engine\")\n",
    "        return"
   ]
  },
  {
   "cell_type": "code",
   "execution_count": 9,
   "metadata": {},
   "outputs": [],
   "source": [
    "class Steering:\n",
    "    \n",
    "    def left(self):\n",
    "        print(\"Turn left like generic steering\")\n",
    "    \n",
    "    def right(self):\n",
    "        print(\"Turn left like generic steering\")"
   ]
  },
  {
   "cell_type": "code",
   "execution_count": 10,
   "metadata": {},
   "outputs": [],
   "source": [
    "class Musicplayer:\n",
    "    \n",
    "    def start(self):\n",
    "        print(\"start like generic music player\")\n",
    "    \n",
    "    def stop(self):\n",
    "        print(\"stop like generic music player\")"
   ]
  },
  {
   "cell_type": "code",
   "execution_count": 13,
   "metadata": {},
   "outputs": [],
   "source": [
    "class NitroEngine:\n",
    "    \n",
    "    def start(self):\n",
    "            print(\"Start like Nitro engine\")\n",
    "            \n",
    "    def stop(self):\n",
    "        print(\"Stop like Nitro engine\")\n",
    "        return"
   ]
  },
  {
   "cell_type": "code",
   "execution_count": 14,
   "metadata": {},
   "outputs": [],
   "source": [
    "class Car:\n",
    "    \n",
    "    def __init__(self, key):\n",
    "        self.__engine = Engine()\n",
    "        self.__steering = Steering()\n",
    "        self.__key = key\n",
    "        self.__mp3 = Musicplayer()\n",
    "        \n",
    "    def start(self, key):\n",
    "        if key != self.__key:\n",
    "            return \"Wrong Key\"\n",
    "        self.__engine.start()\n",
    "        self.__mp3.start()\n",
    "    \n",
    "    \n",
    "    def stop(self):\n",
    "        \n",
    "        self.__mp3.stop()\n",
    "        self.__engine.stop()\n",
    "    \n",
    "    \n",
    "    def left(self):\n",
    "        self.__steering.left()\n",
    "    \n",
    "    def right(self):\n",
    "        self.__steering.right()\n",
    "        \n",
    "    def changeEngine(self):\n",
    "        self.__engine = NitroEngine()\n",
    "        "
   ]
  },
  {
   "cell_type": "code",
   "execution_count": 15,
   "metadata": {},
   "outputs": [],
   "source": [
    "farari = Car(\"11\")"
   ]
  },
  {
   "cell_type": "code",
   "execution_count": 16,
   "metadata": {},
   "outputs": [
    {
     "name": "stdout",
     "output_type": "stream",
     "text": [
      "Start like generic engine\n",
      "start like generic music player\n"
     ]
    }
   ],
   "source": [
    "farari.start(\"11\")"
   ]
  },
  {
   "cell_type": "code",
   "execution_count": 17,
   "metadata": {},
   "outputs": [
    {
     "name": "stdout",
     "output_type": "stream",
     "text": [
      "stop like generic music player\n",
      "Stop like generic engine\n"
     ]
    }
   ],
   "source": [
    "farari.stop()"
   ]
  },
  {
   "cell_type": "code",
   "execution_count": 18,
   "metadata": {},
   "outputs": [
    {
     "name": "stdout",
     "output_type": "stream",
     "text": [
      "Turn left like generic steering\n"
     ]
    }
   ],
   "source": [
    "farari.left()"
   ]
  },
  {
   "cell_type": "code",
   "execution_count": 19,
   "metadata": {},
   "outputs": [
    {
     "name": "stdout",
     "output_type": "stream",
     "text": [
      "Turn left like generic steering\n"
     ]
    }
   ],
   "source": [
    "farari.right()"
   ]
  },
  {
   "cell_type": "code",
   "execution_count": 20,
   "metadata": {},
   "outputs": [],
   "source": [
    "farari.changeEngine()"
   ]
  },
  {
   "cell_type": "code",
   "execution_count": 21,
   "metadata": {},
   "outputs": [
    {
     "name": "stdout",
     "output_type": "stream",
     "text": [
      "Start like Nitro engine\n",
      "start like generic music player\n"
     ]
    }
   ],
   "source": [
    "farari.start(\"11\n",
    "             \")"
   ]
  },
  {
   "cell_type": "code",
   "execution_count": null,
   "metadata": {},
   "outputs": [],
   "source": []
  }
 ],
 "metadata": {
  "kernelspec": {
   "display_name": "Python 3",
   "language": "python",
   "name": "python3"
  },
  "language_info": {
   "codemirror_mode": {
    "name": "ipython",
    "version": 3
   },
   "file_extension": ".py",
   "mimetype": "text/x-python",
   "name": "python",
   "nbconvert_exporter": "python",
   "pygments_lexer": "ipython3",
   "version": "3.7.4"
  }
 },
 "nbformat": 4,
 "nbformat_minor": 4
}
