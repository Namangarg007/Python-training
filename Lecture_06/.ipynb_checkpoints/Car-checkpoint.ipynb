{
 "cells": [
  {
   "cell_type": "code",
   "execution_count": 112,
   "metadata": {},
   "outputs": [],
   "source": [
    "class Engine:\n",
    "    \n",
    "    def __init__(self):\n",
    "        self.__cycle = 5\n",
    "        self.__active = False\n",
    "    \n",
    "    def start(self):\n",
    "        \n",
    "        if self.__active == True:\n",
    "            print(\"Engine already runnung\")\n",
    "            return\n",
    "        \n",
    "        if self.__cycle > 0:\n",
    "            print(\"Start like generic engine\")\n",
    "            self.__active = True\n",
    "            self.__cycle -=1\n",
    "        else:\n",
    "            print(\"cannot start engine\")\n",
    "    \n",
    "    \n",
    "    def stop(self):\n",
    "        if self.__active == True:\n",
    "            print(\"Stop like generic engine\")\n",
    "            self.__active = False\n",
    "            return\n",
    "        else :\n",
    "            print(\"Engine already stopped\")\n",
    "            return"
   ]
  },
  {
   "cell_type": "code",
   "execution_count": 113,
   "metadata": {},
   "outputs": [],
   "source": [
    "class Steering:\n",
    "    \n",
    "    def left(self):\n",
    "        print(\"Turn left like generic steering\")\n",
    "    \n",
    "    def right(self):\n",
    "        print(\"Turn left like generic steering\")"
   ]
  },
  {
   "cell_type": "code",
   "execution_count": 114,
   "metadata": {},
   "outputs": [],
   "source": [
    "class Musicplayer:\n",
    "    \n",
    "    def start(self):\n",
    "        print(\"start like generic music player\")\n",
    "    \n",
    "    def stop(self):\n",
    "        print(\"stop like generic music player\")"
   ]
  },
  {
   "cell_type": "code",
   "execution_count": 115,
   "metadata": {},
   "outputs": [],
   "source": [
    "class Car:\n",
    "    \n",
    "    def __init__(self, key):\n",
    "        self.__engine = Engine()\n",
    "        self.__steering = Steering()\n",
    "        self.__key = key\n",
    "        self.__mp3 = Musicplayer()\n",
    "        \n",
    "    def start(self, key):\n",
    "        if key != self.__key:\n",
    "            return \"Wrong Key\"\n",
    "        self.__engine.start()\n",
    "        self.__mp3.start()\n",
    "    \n",
    "    \n",
    "    def stop(self):\n",
    "        \n",
    "        self.__mp3.stop()\n",
    "        self.__engine.stop()\n",
    "    \n",
    "    \n",
    "    def left(self):\n",
    "        self.__steering.left()\n",
    "    \n",
    "    def right(self):\n",
    "        self.__steering.right()"
   ]
  },
  {
   "cell_type": "code",
   "execution_count": 116,
   "metadata": {},
   "outputs": [],
   "source": [
    "farari = Car(\"11\")"
   ]
  },
  {
   "cell_type": "code",
   "execution_count": 117,
   "metadata": {},
   "outputs": [
    {
     "name": "stdout",
     "output_type": "stream",
     "text": [
      "Start like generic engine\n",
      "start like generic music player\n"
     ]
    }
   ],
   "source": [
    "farari.start(\"11\")"
   ]
  },
  {
   "cell_type": "code",
   "execution_count": 119,
   "metadata": {},
   "outputs": [
    {
     "name": "stdout",
     "output_type": "stream",
     "text": [
      "stop like generic music player\n",
      "Engine already stopped\n"
     ]
    }
   ],
   "source": [
    "farari.stop()"
   ]
  },
  {
   "cell_type": "code",
   "execution_count": 64,
   "metadata": {},
   "outputs": [
    {
     "name": "stdout",
     "output_type": "stream",
     "text": [
      "Turn left like generic steering\n"
     ]
    }
   ],
   "source": [
    "farari.left()"
   ]
  },
  {
   "cell_type": "code",
   "execution_count": 56,
   "metadata": {},
   "outputs": [
    {
     "name": "stdout",
     "output_type": "stream",
     "text": [
      "Turn left like generic steering\n"
     ]
    }
   ],
   "source": [
    "farari.right()"
   ]
  },
  {
   "cell_type": "code",
   "execution_count": null,
   "metadata": {},
   "outputs": [],
   "source": []
  },
  {
   "cell_type": "code",
   "execution_count": null,
   "metadata": {},
   "outputs": [],
   "source": []
  }
 ],
 "metadata": {
  "kernelspec": {
   "display_name": "Python 3",
   "language": "python",
   "name": "python3"
  },
  "language_info": {
   "codemirror_mode": {
    "name": "ipython",
    "version": 3
   },
   "file_extension": ".py",
   "mimetype": "text/x-python",
   "name": "python",
   "nbconvert_exporter": "python",
   "pygments_lexer": "ipython3",
   "version": "3.7.4"
  }
 },
 "nbformat": 4,
 "nbformat_minor": 4
}
